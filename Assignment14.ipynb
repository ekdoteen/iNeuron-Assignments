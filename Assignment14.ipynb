{
 "cells": [
  {
   "cell_type": "markdown",
   "id": "f4d21382",
   "metadata": {},
   "source": [
    "# iNeuron python basics Assignment 14"
   ]
  },
  {
   "cell_type": "markdown",
   "id": "da1fe3c4",
   "metadata": {},
   "source": [
    "1. What does RGBA stand for?"
   ]
  },
  {
   "cell_type": "markdown",
   "id": "15ff3ce9",
   "metadata": {},
   "source": [
    "Ans. RGBA stands for Red, Green, Blue, and Alpha. "
   ]
  },
  {
   "cell_type": "markdown",
   "id": "c25dd08c",
   "metadata": {},
   "source": [
    "2. From the Pillow module, how do you get the RGBA value of any images?"
   ]
  },
  {
   "cell_type": "markdown",
   "id": "2ba21b19",
   "metadata": {},
   "source": [
    "Ans. To get the RGBA value of any image using the Pillow module in Python, you can use the getpixel() method provided by the Image class. "
   ]
  },
  {
   "cell_type": "code",
   "execution_count": null,
   "id": "2e979fa6",
   "metadata": {},
   "outputs": [],
   "source": [
    "from PIL import Image\n",
    "\n",
    "# Open an image file\n",
    "image = Image.open('image.png')\n",
    "\n",
    "# Get the RGBA value of a pixel at coordinates (x, y)\n",
    "x = 10\n",
    "y = 20\n",
    "rgba = image.getpixel((x, y))\n",
    "\n",
    "print(rgba)  # Output: (R, G, B, A)\n"
   ]
  },
  {
   "cell_type": "markdown",
   "id": "bac099dc",
   "metadata": {},
   "source": [
    "3. What is a box tuple, and how does it work?"
   ]
  },
  {
   "cell_type": "markdown",
   "id": "6a0d68bf",
   "metadata": {},
   "source": [
    "Ans. A box tuple refers to a tuple that represents a rectangular region or bounding box within an image. It is typically used to define the coordinates of a specific area within an image that you want to manipulate or extract.\n",
    "\n",
    "A box tuple consists of four values in the order (left, upper, right, lower), where:\n",
    "\n",
    "left represents the x-coordinate of the left edge of the bounding box.\n",
    "\n",
    "upper represents the y-coordinate of the upper edge of the bounding box.\n",
    "\n",
    "right represents the x-coordinate of the right edge of the bounding box.\n",
    "\n",
    "lower represents the y-coordinate of the lower edge of the bounding box."
   ]
  },
  {
   "cell_type": "markdown",
   "id": "4b12ff84",
   "metadata": {},
   "source": [
    "4. Use your image and load in notebook then, How can you find out the width and height of an Image object?"
   ]
  },
  {
   "cell_type": "markdown",
   "id": "eb0ea4a7",
   "metadata": {},
   "source": [
    "Ans. To find out the width and height of an Image object, size attribute of the Image object. Here's an example:"
   ]
  },
  {
   "cell_type": "code",
   "execution_count": null,
   "id": "7d081878",
   "metadata": {},
   "outputs": [],
   "source": [
    "from PIL import Image\n",
    "\n",
    "# Open an image file\n",
    "image = Image.open('image.jpg')\n",
    "\n",
    "# Get the width and height of the image\n",
    "width, height = image.size\n"
   ]
  },
  {
   "cell_type": "markdown",
   "id": "d9812b0d",
   "metadata": {},
   "source": [
    "5. What method would you call to get Image object for a 100×100 image, excluding the lower-left quarter of it?"
   ]
  },
  {
   "cell_type": "code",
   "execution_count": 1,
   "id": "0aae40f6",
   "metadata": {},
   "outputs": [],
   "source": [
    "from PIL import Image\n",
    "\n",
    "# Open the original image\n",
    "image = Image.open('bottle-with-flowers-flower-it.jpg')\n",
    "\n",
    "# Crop the image to exclude the lower-left quarter\n",
    "cropped_image = image.crop((0, 50, 50, 100))\n",
    "\n",
    "# Display the cropped image\n",
    "cropped_image.show()"
   ]
  },
  {
   "cell_type": "markdown",
   "id": "a61d130e",
   "metadata": {},
   "source": [
    " 6. After making changes to an Image object, how could you save it as an image file?"
   ]
  },
  {
   "cell_type": "code",
   "execution_count": null,
   "id": "de375f3f",
   "metadata": {},
   "outputs": [],
   "source": [
    "from PIL import Image\n",
    "\n",
    "# Open the original image\n",
    "image = Image.open('bottle-with-flowers-flower-it.jpg')\n",
    "\n",
    "# Crop the image to exclude the lower-left quarter\n",
    "cropped_image = image.crop((0, 50, 50, 100))\n",
    "\n",
    "\n",
    "cropped_image.save('modified_image.jpg')\n"
   ]
  },
  {
   "cell_type": "markdown",
   "id": "f2417d76",
   "metadata": {},
   "source": [
    "7. What module contains Pillow’s shape-drawing code?"
   ]
  },
  {
   "cell_type": "markdown",
   "id": "ef8704e4",
   "metadata": {},
   "source": [
    "Ans. The module that contains Pillow's shape-drawing code is Pillow.ImageDraw.\n",
    "\n",
    "The ImageDraw module provides functionality for drawing various shapes, lines, and text on an Image object using different methods and functions."
   ]
  },
  {
   "cell_type": "markdown",
   "id": "de56d91e",
   "metadata": {},
   "source": [
    "8. Image objects do not have drawing methods. What kind of object does? How do you get this kind of object?"
   ]
  },
  {
   "cell_type": "markdown",
   "id": "aaf7c313",
   "metadata": {},
   "source": [
    "Ans. drawing methods are available on the ImageDraw objects, which can be obtained from Image objects.\n",
    "\n",
    "To get an ImageDraw object from an Image object, you need to use the ImageDraw.Draw() "
   ]
  },
  {
   "cell_type": "code",
   "execution_count": 2,
   "id": "2debe4d8",
   "metadata": {},
   "outputs": [],
   "source": [
    "from PIL import Image, ImageDraw\n",
    "\n",
    "# Open an image file\n",
    "image = Image.open('bottle-with-flowers-flower-it.jpg')\n",
    "\n",
    "# Create an ImageDraw object from the Image object\n",
    "draw = ImageDraw.Draw(image)\n",
    "\n",
    "# Now you can use the drawing methods on the ImageDraw object\n",
    "draw.rectangle((100, 100, 200, 200), outline='red')\n",
    "draw.line((50, 50, 200, 50), fill='blue')\n",
    "\n",
    "# Save or display the modified image\n",
    "image.save('modified_image.jpg')\n",
    "image.show()"
   ]
  },
  {
   "cell_type": "markdown",
   "id": "2d48a896",
   "metadata": {},
   "source": []
  }
 ],
 "metadata": {
  "kernelspec": {
   "display_name": "Python 3 (ipykernel)",
   "language": "python",
   "name": "python3"
  },
  "language_info": {
   "codemirror_mode": {
    "name": "ipython",
    "version": 3
   },
   "file_extension": ".py",
   "mimetype": "text/x-python",
   "name": "python",
   "nbconvert_exporter": "python",
   "pygments_lexer": "ipython3",
   "version": "3.9.7"
  }
 },
 "nbformat": 4,
 "nbformat_minor": 5
}
