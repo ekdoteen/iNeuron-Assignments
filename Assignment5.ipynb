{
  "nbformat": 4,
  "nbformat_minor": 0,
  "metadata": {
    "colab": {
      "provenance": [],
      "authorship_tag": "ABX9TyNsSiwmZrB2UVAynnDtnpLJ",
      "include_colab_link": true
    },
    "kernelspec": {
      "name": "python3",
      "display_name": "Python 3"
    },
    "language_info": {
      "name": "python"
    }
  },
  "cells": [
    {
      "cell_type": "markdown",
      "metadata": {
        "id": "view-in-github",
        "colab_type": "text"
      },
      "source": [
        "<a href=\"https://colab.research.google.com/github/ekdoteen/iNeuron-Assignments/blob/main/Assignment5.ipynb\" target=\"_parent\"><img src=\"https://colab.research.google.com/assets/colab-badge.svg\" alt=\"Open In Colab\"/></a>"
      ]
    },
    {
      "cell_type": "code",
      "execution_count": null,
      "metadata": {
        "id": "NE8vfOjWiIKm"
      },
      "outputs": [],
      "source": []
    },
    {
      "cell_type": "markdown",
      "source": [
        "1. What does an empty dictionary's code look like?\n",
        "\n",
        "Ans. {}"
      ],
      "metadata": {
        "id": "XJD4-dEeiJ_9"
      }
    },
    {
      "cell_type": "markdown",
      "source": [
        "2. What is the value of a dictionary value with the key 'foo' and the value 42?\n",
        "\n",
        "Ans. {'foo':42}"
      ],
      "metadata": {
        "id": "-28XC2nwiSUp"
      }
    },
    {
      "cell_type": "markdown",
      "source": [
        "3. What is the most significant distinction between a dictionary and a list?\n",
        "\n",
        "Ans. Dictionary uses keys to access the values. While in a list we can use indexing to access the values."
      ],
      "metadata": {
        "id": "SI2yYKOmjrWl"
      }
    },
    {
      "cell_type": "markdown",
      "source": [
        "4. What happens if you try to access spam['foo'] if spam is {'bar': 100}?\n",
        "\n",
        "Ans. You will get a type error, which means here that the object cannot be indexed"
      ],
      "metadata": {
        "id": "RcOUd-SqkTXD"
      }
    },
    {
      "cell_type": "code",
      "source": [
        "spam = {'bar',100}\n",
        "\n",
        "spam['foo']"
      ],
      "metadata": {
        "colab": {
          "base_uri": "https://localhost:8080/",
          "height": 201
        },
        "id": "fLxNEEO7kaOw",
        "outputId": "b448ca79-06c7-4637-bea1-2cb035d6eb0c"
      },
      "execution_count": 2,
      "outputs": [
        {
          "output_type": "error",
          "ename": "TypeError",
          "evalue": "ignored",
          "traceback": [
            "\u001b[0;31m---------------------------------------------------------------------------\u001b[0m",
            "\u001b[0;31mTypeError\u001b[0m                                 Traceback (most recent call last)",
            "\u001b[0;32m<ipython-input-2-ac437ac88967>\u001b[0m in \u001b[0;36m<module>\u001b[0;34m\u001b[0m\n\u001b[1;32m      1\u001b[0m \u001b[0mspam\u001b[0m \u001b[0;34m=\u001b[0m \u001b[0;34m{\u001b[0m\u001b[0;34m'bar'\u001b[0m\u001b[0;34m,\u001b[0m\u001b[0;36m100\u001b[0m\u001b[0;34m}\u001b[0m\u001b[0;34m\u001b[0m\u001b[0;34m\u001b[0m\u001b[0m\n\u001b[1;32m      2\u001b[0m \u001b[0;34m\u001b[0m\u001b[0m\n\u001b[0;32m----> 3\u001b[0;31m \u001b[0mspam\u001b[0m\u001b[0;34m[\u001b[0m\u001b[0;34m'foo'\u001b[0m\u001b[0;34m]\u001b[0m\u001b[0;34m\u001b[0m\u001b[0;34m\u001b[0m\u001b[0m\n\u001b[0m",
            "\u001b[0;31mTypeError\u001b[0m: 'set' object is not subscriptable"
          ]
        }
      ]
    },
    {
      "cell_type": "markdown",
      "source": [
        "5. If a dictionary is stored in spam, what is the difference between the expressions 'cat' in spam and 'cat' in spam.keys()?\n",
        "\n",
        "Ans. There is no difference as both the expressions check if 'cat' is a key or not in the dictionary spam."
      ],
      "metadata": {
        "id": "Kfqh6zGvlYRB"
      }
    },
    {
      "cell_type": "code",
      "source": [
        "spam = {\"dog\":'cat'}\n",
        "\n",
        "'cat' in spam"
      ],
      "metadata": {
        "colab": {
          "base_uri": "https://localhost:8080/"
        },
        "id": "gxTnG072luMI",
        "outputId": "c05110ed-6d79-42f3-ebe9-c014028bb5f7"
      },
      "execution_count": 7,
      "outputs": [
        {
          "output_type": "execute_result",
          "data": {
            "text/plain": [
              "False"
            ]
          },
          "metadata": {},
          "execution_count": 7
        }
      ]
    },
    {
      "cell_type": "markdown",
      "source": [
        "6. If a dictionary is stored in spam, what is the difference between the expressions 'cat' in spam and 'cat' in spam.values()?\n",
        "\n",
        "Ans. First expression checks if the 'cat' is a key or not. Second expression checks if 'cat' is a value or not. "
      ],
      "metadata": {
        "id": "-29BNKUomQAO"
      }
    },
    {
      "cell_type": "code",
      "source": [
        "spam = {\"dog\":'cat'}\n",
        "\n",
        "'cat' in spam.values()"
      ],
      "metadata": {
        "colab": {
          "base_uri": "https://localhost:8080/"
        },
        "id": "ItATEjyHnARV",
        "outputId": "9fad88cc-5c9f-4efc-d4e3-e2b209858e47"
      },
      "execution_count": 8,
      "outputs": [
        {
          "output_type": "execute_result",
          "data": {
            "text/plain": [
              "True"
            ]
          },
          "metadata": {},
          "execution_count": 8
        }
      ]
    },
    {
      "cell_type": "markdown",
      "source": [
        "7. What is a shortcut for the following code?\n",
        "\n",
        "if 'color' not in spam:\n",
        "\n",
        "spam['color'] = 'black'\n"
      ],
      "metadata": {
        "id": "OWFNbYLKnHTb"
      }
    },
    {
      "cell_type": "code",
      "source": [
        "spam.setdefault('color','black')"
      ],
      "metadata": {
        "colab": {
          "base_uri": "https://localhost:8080/",
          "height": 35
        },
        "id": "sb91n0XHnPjP",
        "outputId": "abcaecc4-5579-4a26-939a-b22c1be0aba9"
      },
      "execution_count": 9,
      "outputs": [
        {
          "output_type": "execute_result",
          "data": {
            "text/plain": [
              "'black'"
            ],
            "application/vnd.google.colaboratory.intrinsic+json": {
              "type": "string"
            }
          },
          "metadata": {},
          "execution_count": 9
        }
      ]
    },
    {
      "cell_type": "markdown",
      "source": [
        "8. How do you \"pretty print\" dictionary values using which module and function?\n",
        "\n",
        "Ans. pprint module is used. pprint.PrettyPrinter() function is used."
      ],
      "metadata": {
        "id": "pgQi8FBzodUJ"
      }
    },
    {
      "cell_type": "code",
      "source": [],
      "metadata": {
        "id": "9GNF4pekpuxs"
      },
      "execution_count": null,
      "outputs": []
    }
  ]
}