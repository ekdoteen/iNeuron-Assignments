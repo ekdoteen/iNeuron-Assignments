{
 "cells": [
  {
   "cell_type": "markdown",
   "id": "14f8d666",
   "metadata": {},
   "source": [
    "## Python basics Assignment 10"
   ]
  },
  {
   "cell_type": "markdown",
   "id": "8437e287",
   "metadata": {},
   "source": [
    "1. How do you distinguish between shutil.copy() and shutil.copytree()?"
   ]
  },
  {
   "cell_type": "markdown",
   "id": "1982c09f",
   "metadata": {},
   "source": [
    "Ans. \n",
    "\n",
    "shutil.copy(src, dst): This function is used to copy a single file from the source (src) to the destination (dst). It takes two arguments: the path of the source file and the destination path. If the destination path already exists, it will be overwritten. If the destination is a directory, the file will be copied with the same name into that directory.\n",
    "\n"
   ]
  },
  {
   "cell_type": "code",
   "execution_count": null,
   "id": "6b946165",
   "metadata": {},
   "outputs": [],
   "source": [
    "import shutil\n",
    "\n",
    "shutil.copy('source_file.txt', 'destination_folder/file.txt')\n",
    "\n",
    "## In the above example, the file source_file.txt will be copied to the destination folder with the name file.txt."
   ]
  },
  {
   "cell_type": "markdown",
   "id": "353b0c74",
   "metadata": {},
   "source": [
    "shutil.copytree(src, dst): This function is used to recursively copy an entire directory tree from the source (src) to the destination (dst). It creates a new directory at the destination path and copies all the files and subdirectories from the source directory into the new directory."
   ]
  },
  {
   "cell_type": "code",
   "execution_count": null,
   "id": "df6adef3",
   "metadata": {},
   "outputs": [],
   "source": [
    "import shutil\n",
    "\n",
    "shutil.copytree('source_folder', 'destination_folder')\n",
    "\n",
    "## In the above example, the entire directory tree from source_folder will be copied to destination_folder, \n",
    "## including all the files and subdirectories."
   ]
  },
  {
   "cell_type": "markdown",
   "id": "5058bcf6",
   "metadata": {},
   "source": [
    "2. What function is used to rename files??"
   ]
  },
  {
   "cell_type": "markdown",
   "id": "2453f48d",
   "metadata": {},
   "source": [
    "Ans.\n",
    "\n",
    "The os.rename(src, dst) function is used to rename a file or directory. It takes two arguments: the current name or path of the file (src) and the new name or path of the file (dst). The src and dst can include the directory path if the file is not in the current working directory."
   ]
  },
  {
   "cell_type": "code",
   "execution_count": null,
   "id": "47b49002",
   "metadata": {},
   "outputs": [],
   "source": [
    "import os\n",
    "\n",
    "# Current file name\n",
    "old_name = 'old_file.txt'\n",
    "\n",
    "# New file name\n",
    "new_name = 'new_file.txt'\n",
    "\n",
    "# Rename the file\n",
    "os.rename(old_name, new_name)"
   ]
  },
  {
   "cell_type": "markdown",
   "id": "4b59fc91",
   "metadata": {},
   "source": [
    "3. What is the difference between the delete functions in the send2trash and shutil modules?"
   ]
  },
  {
   "cell_type": "markdown",
   "id": "77f584cd",
   "metadata": {},
   "source": [
    "Ans. \n",
    "\n",
    "send2trash module:\n",
    "The send2trash module provides a safe way to delete files or directories by moving them to the operating system's trash or recycle bin instead of permanently deleting them. \n",
    "\n",
    "shutil module:\n",
    "The shutil module provides the shutil.rmtree(path) function to delete an entire directory tree, including all files and subdirectories within it. This function permanently removes the directory and its contents from the file system"
   ]
  },
  {
   "cell_type": "markdown",
   "id": "169639b8",
   "metadata": {},
   "source": [
    "4.ZipFile objects have a close() method just like File objects’ close() method. What ZipFile method is equivalent to File objects’ open() method?"
   ]
  },
  {
   "cell_type": "markdown",
   "id": "b728824d",
   "metadata": {},
   "source": [
    "Ans.\n",
    "\n",
    "The zipfile.ZipFile() function is equivalent to the open() function; the first argument is the filename, and the second argument is the mode to open the ZIP file in (read, write, or append)."
   ]
  },
  {
   "cell_type": "markdown",
   "id": "c8e38fb1",
   "metadata": {},
   "source": [
    "5. Create a programme that searches a folder tree for files with a certain file extension (such as .pdf or .jpg). Copy these files from whatever location they are in to a new folder."
   ]
  },
  {
   "cell_type": "markdown",
   "id": "9c436cea",
   "metadata": {},
   "source": [
    "Ans.\n",
    "First we are having a root directory, sub directory as dirs, then the files with extension .jpg.\n",
    "\n",
    "THen you are accessing the folder by using os.walk(folder).\n",
    "\n",
    "Then you are reading the files with the extension .jpg.\n",
    "\n",
    "After that you are creating a path for those image files.\n",
    "\n",
    "Then we are copying the image path to our destination folder\n",
    "\n"
   ]
  },
  {
   "cell_type": "code",
   "execution_count": 25,
   "id": "868b7d8e",
   "metadata": {},
   "outputs": [
    {
     "name": "stdout",
     "output_type": "stream",
     "text": [
      "location:  C:\\Users\\deepa\\OneDrive\\Documents\\bottle-with-flowers-flower-it.jpg\n",
      "location:  C:\\Users\\deepa\\OneDrive\\Documents\\cow.jpg\n",
      "location:  C:\\Users\\deepa\\OneDrive\\Documents\\ocean-cat.jpg\n",
      "location:  C:\\Users\\deepa\\OneDrive\\Documents\\R\\win-library\\4.1\\cowplot\\extdata\\cow.jpg\n",
      "location:  C:\\Users\\deepa\\OneDrive\\Documents\\R\\win-library\\4.1\\isoband\\extdata\\ocean-cat.jpg\n",
      "location:  C:\\Users\\deepa\\OneDrive\\Documents\\Youtube_python_basics_ds\\bottle-with-flowers-flower-it.jpg\n",
      "location:  C:\\Users\\deepa\\OneDrive\\Documents\\Youtube_python_basics_ds\\cow.jpg\n",
      "location:  C:\\Users\\deepa\\OneDrive\\Documents\\Youtube_python_basics_ds\\ocean-cat.jpg\n"
     ]
    }
   ],
   "source": [
    "import os\n",
    "import shutil\n",
    "\n",
    "import os, shutil\n",
    "\n",
    "def moveFileType(folder): \n",
    "  for root, dirs, files in os.walk(folder): \n",
    "               for file in files: \n",
    "                   if file.endswith('.jpg'):\n",
    "                    image_path=os.path.join(root,file)  # get the path location of each jpeg image.\n",
    "                    print ('location: ',image_path )\n",
    "                    shutil.copy(image_path, r\"C:\\Users\\deepa\\OneDrive\\Desktop\")\n",
    "\n",
    "moveFileType(r\"C:\\Users\\deepa\\OneDrive\\Documents\")\n"
   ]
  },
  {
   "cell_type": "markdown",
   "id": "128e60fd",
   "metadata": {},
   "source": []
  },
  {
   "cell_type": "markdown",
   "id": "2e7952c3",
   "metadata": {},
   "source": []
  }
 ],
 "metadata": {
  "kernelspec": {
   "display_name": "Python 3 (ipykernel)",
   "language": "python",
   "name": "python3"
  },
  "language_info": {
   "codemirror_mode": {
    "name": "ipython",
    "version": 3
   },
   "file_extension": ".py",
   "mimetype": "text/x-python",
   "name": "python",
   "nbconvert_exporter": "python",
   "pygments_lexer": "ipython3",
   "version": "3.9.7"
  }
 },
 "nbformat": 4,
 "nbformat_minor": 5
}
