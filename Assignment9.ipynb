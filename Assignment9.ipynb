{
 "cells": [
  {
   "cell_type": "markdown",
   "id": "4e4edb31",
   "metadata": {},
   "source": [
    "## Python basics Assignment 9"
   ]
  },
  {
   "cell_type": "markdown",
   "id": "e73c60bd",
   "metadata": {},
   "source": [
    "1. To what does a relative path refer?"
   ]
  },
  {
   "cell_type": "markdown",
   "id": "ce8dc68c",
   "metadata": {},
   "source": [
    "Ans. A relative path describes the location of a file relative to the current (working) directory."
   ]
  },
  {
   "cell_type": "markdown",
   "id": "4a3461d8",
   "metadata": {},
   "source": [
    "2. What does an absolute path start with your operating system?"
   ]
  },
  {
   "cell_type": "markdown",
   "id": "9f17c34a",
   "metadata": {},
   "source": [
    "Ans.  An absolute path always begins from the absolute start of your hard drive and describes every step you must take through the filesystem to end up at the target location.\n",
    "\n",
    "In other words we can say absolute path is a complete path from start of actual filesystem from / directory."
   ]
  },
  {
   "cell_type": "markdown",
   "id": "8e4b06d8",
   "metadata": {},
   "source": [
    "3. What do the functions os.getcwd() and os.chdir() do?"
   ]
  },
  {
   "cell_type": "markdown",
   "id": "f2ceac8a",
   "metadata": {},
   "source": [
    "Ans. \n",
    "\n",
    "os.getcwd(): This function returns the current working directory (CWD) as a string. \n",
    "\n",
    "os.chdir(path): This function changes the current working directory to the specified path. It accepts a string argument representing the new directory path."
   ]
  },
  {
   "cell_type": "markdown",
   "id": "5d15e1cd",
   "metadata": {},
   "source": [
    "4. What are the . and .. folders?"
   ]
  },
  {
   "cell_type": "markdown",
   "id": "874f759a",
   "metadata": {},
   "source": [
    "Ans. . (dot) folder: The . folder refers to the current directory. It is used to specify the current location in the file system hierarchy. For example, when a file path begins with ./, it indicates that the file or directory is located in the current directory. It is often used as a relative path indicator.\n",
    "\n",
    ".. (dot dot) folder: The .. folder refers to the parent directory of the current directory. It is used to move up one level in the file system hierarchy. For example, if you have a file path like ../file.txt, it indicates that the file is located in the parent directory of the current directory."
   ]
  },
  {
   "cell_type": "code",
   "execution_count": null,
   "id": "7e95afca",
   "metadata": {},
   "outputs": [],
   "source": [
    "- root\n",
    "  |- dir1\n",
    "  |  |- file1.txt\n",
    "  |\n",
    "  |- dir2\n",
    "  |  |- file2.txt\n",
    "  |\n",
    "  |- file3.txt\n"
   ]
  },
  {
   "cell_type": "markdown",
   "id": "69a4a7cc",
   "metadata": {},
   "source": [
    "If you are currently in the dir1 directory, the . (dot) folder represents the current directory (dir1), and .. (dot dot) represents the parent directory (root).\n",
    "\n",
    "If you are in the dir1 directory and want to access file2.txt in dir2, you can use the relative path ../dir2/file2.txt, where .. moves up to the parent directory (root), then navigates to dir2 and accesses file2.txt."
   ]
  },
  {
   "cell_type": "markdown",
   "id": "2e7d0956",
   "metadata": {},
   "source": [
    "5. In C:\\bacon\\eggs\\spam.txt, which part is the dir name, and which part is the base name?"
   ]
  },
  {
   "cell_type": "markdown",
   "id": "f8cfa297",
   "metadata": {},
   "source": [
    "Ans. In file path C:\\bacon\\eggs\\spam.txt, the directory name refers to the path that contains the file, while the base name refers to the actual file name itself.\n",
    "\n",
    "Dir Name: C:\\bacon\\eggs\n",
    "\n",
    "Base Name: spam.txt"
   ]
  },
  {
   "cell_type": "markdown",
   "id": "9b7aed00",
   "metadata": {},
   "source": [
    "6. What are the three “mode” arguments that can be passed to the open() function?"
   ]
  },
  {
   "cell_type": "markdown",
   "id": "cc073194",
   "metadata": {},
   "source": [
    "Ans. The open() function in Python is used to open a file and returns a file object. \n",
    "\n",
    "The mode argument can take one of the following three values:\n",
    "\n",
    "\"r\" (Read Mode):\n",
    "\n",
    "This mode is used for reading files. The file must exist, and the file pointer is positioned at the beginning of the file.\n",
    "If the file cannot be opened in read mode, a FileNotFoundError will be raised.\n",
    "Example: open(\"file.txt\", \"r\")\n",
    "\n",
    "\"w\" (Write Mode):\n",
    "\n",
    "This mode is used for writing to files. If the file exists, it is truncated (emptied), and if it doesn't exist, a new file is created.\n",
    "If the file cannot be opened in write mode, a PermissionError will be raised.\n",
    "Example: open(\"file.txt\", \"w\")\n",
    "\n",
    "\"a\" (Append Mode):\n",
    "\n",
    "This mode is used for appending data to an existing file. The file pointer is positioned at the end of the file.\n",
    "If the file doesn't exist, a new file is created.\n",
    "Example: open(\"file.txt\", \"a\")"
   ]
  },
  {
   "cell_type": "markdown",
   "id": "593d27f6",
   "metadata": {},
   "source": [
    "7. What happens if an existing file is opened in write mode?"
   ]
  },
  {
   "cell_type": "markdown",
   "id": "740626ef",
   "metadata": {},
   "source": [
    "Ans. \n",
    "\n",
    "If the file exists:\n",
    "\n",
    "The file will be truncated, which means all the existing contents of the file will be removed.\n",
    "The file pointer will be positioned at the beginning of the file, ready to write new data.\n",
    "If there were any file permissions set, those permissions will be retained.\n",
    "\n",
    "If the file does not exist:\n",
    "\n",
    "A new file will be created with the specified name.\n",
    "The file pointer will be positioned at the beginning of the file, ready to write new data."
   ]
  },
  {
   "cell_type": "markdown",
   "id": "2d50f0cc",
   "metadata": {},
   "source": [
    "8. How do you tell the difference between read() and readlines()?"
   ]
  },
  {
   "cell_type": "markdown",
   "id": "26ff9f9f",
   "metadata": {},
   "source": [
    "Ans. \n",
    "read() returns the entire contents of the file as a single string.\n",
    "\n",
    "readlines() returns a list of strings, with each string representing a line from the file."
   ]
  },
  {
   "cell_type": "markdown",
   "id": "f2e631f1",
   "metadata": {},
   "source": [
    "9. What data structure does a shelf value resemble?"
   ]
  },
  {
   "cell_type": "markdown",
   "id": "4244c368",
   "metadata": {},
   "source": [
    "Ans. A shelf value from the shelve module resembles a dictionary-like data structure that provides persistent storage for Python objects, allowing you to store and retrieve data across program executions."
   ]
  },
  {
   "cell_type": "code",
   "execution_count": null,
   "id": "cd6f3974",
   "metadata": {},
   "outputs": [],
   "source": []
  }
 ],
 "metadata": {
  "kernelspec": {
   "display_name": "Python 3 (ipykernel)",
   "language": "python",
   "name": "python3"
  },
  "language_info": {
   "codemirror_mode": {
    "name": "ipython",
    "version": 3
   },
   "file_extension": ".py",
   "mimetype": "text/x-python",
   "name": "python",
   "nbconvert_exporter": "python",
   "pygments_lexer": "ipython3",
   "version": "3.9.7"
  }
 },
 "nbformat": 4,
 "nbformat_minor": 5
}
