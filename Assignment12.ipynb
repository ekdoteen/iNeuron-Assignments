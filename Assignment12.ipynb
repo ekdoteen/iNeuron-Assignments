{
 "cells": [
  {
   "cell_type": "markdown",
   "id": "34955a0b",
   "metadata": {},
   "source": [
    "## iNeuron Python basics Assignment 12"
   ]
  },
  {
   "cell_type": "markdown",
   "id": "6e6d6bc5",
   "metadata": {},
   "source": [
    "1. In what modes should the PdfFileReader() and PdfFileWriter() File objects will be opened?"
   ]
  },
  {
   "cell_type": "markdown",
   "id": "9b4550e6",
   "metadata": {},
   "source": [
    "Ans. PdfFileReader() - The PdfFileReader() function is used to read a PDF file. The File object representing the PDF file should be opened in binary mode ('rb') to ensure proper reading of the PDF content. Here's an example:b"
   ]
  },
  {
   "cell_type": "code",
   "execution_count": null,
   "id": "ee205f58",
   "metadata": {},
   "outputs": [],
   "source": [
    "pdf_file = open('example.pdf', 'rb')\n",
    "pdf_reader = PdfFileReader(pdf_file)"
   ]
  },
  {
   "cell_type": "markdown",
   "id": "1a71338a",
   "metadata": {},
   "source": [
    "PdfFileWriter() - The PdfFileWriter() function is used to create a new PDF file or modify an existing one. The File object representing the output file should be opened in binary mode and in write mode ('wb') to write the modified or newly created PDF content. Here's an example:"
   ]
  },
  {
   "cell_type": "code",
   "execution_count": null,
   "id": "9428291a",
   "metadata": {},
   "outputs": [],
   "source": [
    "output_file = open('output.pdf', 'wb')\n",
    "pdf_writer = PdfFileWriter()\n",
    "pdf_writer.addPage(some_page)\n",
    "pdf_writer.write(output_file)\n",
    "output_file.close()"
   ]
  },
  {
   "cell_type": "markdown",
   "id": "a9fbd8b8",
   "metadata": {},
   "source": [
    "2. From a PdfFileReader object, how do you get a Page object for page 5?"
   ]
  },
  {
   "cell_type": "markdown",
   "id": "cd543ef8",
   "metadata": {},
   "source": [
    "Ans.\n",
    "\n",
    "To get a Page object for page 5 from a PdfFileReader object, you can use the getPage() method, specifying the index of the desired page (0-based index). Since the index starts from 0, page 5 corresponds to index 4. Here's an example:"
   ]
  },
  {
   "cell_type": "code",
   "execution_count": null,
   "id": "60d58dd8",
   "metadata": {},
   "outputs": [],
   "source": [
    "from PyPDF2 import PdfFileReader\n",
    "\n",
    "pdf_reader = PdfFileReader(open('example.pdf', 'rb'))\n",
    "page_number = 4  # Page 5 corresponds to index 4\n",
    "\n",
    "page = pdf_reader.getPage(page_number)"
   ]
  },
  {
   "cell_type": "markdown",
   "id": "9d9c8eac",
   "metadata": {},
   "source": [
    "3. What PdfFileReader variable stores the number of pages in the PDF document?"
   ]
  },
  {
   "cell_type": "markdown",
   "id": "ea02b75c",
   "metadata": {},
   "source": [
    "Ans. The PdfFileReader variable that stores the number of pages in the PDF document is numPages. It is an attribute of the PdfFileReader object and provides the total number of pages in the PDF file.\n",
    "\n"
   ]
  },
  {
   "cell_type": "code",
   "execution_count": null,
   "id": "6cfefb50",
   "metadata": {},
   "outputs": [],
   "source": [
    "from PyPDF2 import PdfFileReader\n",
    "\n",
    "pdf_reader = PdfFileReader(open('example.pdf', 'rb'))\n",
    "num_pages = pdf_reader.numPages\n",
    "\n",
    "print(\"Number of pages:\", num_pages)"
   ]
  },
  {
   "cell_type": "markdown",
   "id": "32c55ee5",
   "metadata": {},
   "source": [
    "4. If a PdfFileReader object’s PDF is encrypted with the password swordfish, what must you do before you can obtain Page objects from it?"
   ]
  },
  {
   "cell_type": "markdown",
   "id": "9bf46c19",
   "metadata": {},
   "source": [
    "Ans.\n",
    "\n",
    "If a PdfFileReader object's PDF is encrypted with the password \"swordfish,\" you need to decrypt the PDF by calling the decrypt() method with the password as the argument before you can obtain Page objects from it. \n",
    "\n"
   ]
  },
  {
   "cell_type": "code",
   "execution_count": null,
   "id": "c6edab26",
   "metadata": {},
   "outputs": [],
   "source": [
    "from PyPDF2 import PdfFileReader\n",
    "\n",
    "pdf_reader = PdfFileReader(open('encrypted.pdf', 'rb'))\n",
    "\n",
    "if pdf_reader.isEncrypted:\n",
    "    pdf_reader.decrypt('swordfish')\n",
    "\n",
    "# Now you can obtain Page objects from the decrypted PDF\n",
    "page = pdf_reader.getPage(0)"
   ]
  },
  {
   "cell_type": "markdown",
   "id": "44d45851",
   "metadata": {},
   "source": [
    "5. What methods do you use to rotate a page?"
   ]
  },
  {
   "cell_type": "markdown",
   "id": "0615ef64",
   "metadata": {},
   "source": [
    "Ans. \n",
    "\n",
    "rotateClockwise(angle) - This method rotates the page clockwise by the specified angle in degrees.\n",
    "\n",
    "rotateCounterClockwise(angle) - This method rotates the page counterclockwise by the specified angle in degrees."
   ]
  },
  {
   "cell_type": "code",
   "execution_count": null,
   "id": "7d24ff12",
   "metadata": {},
   "outputs": [],
   "source": [
    "from PyPDF2 import PdfFileReader, PdfFileWriter\n",
    "\n",
    "pdf_reader = PdfFileReader(open('input.pdf', 'rb'))\n",
    "page = pdf_reader.getPage(0)\n",
    "\n",
    "# Rotate the page clockwise by 90 degrees\n",
    "page.rotateClockwise(90)\n",
    "\n",
    "pdf_writer = PdfFileWriter()\n",
    "pdf_writer.addPage(page)\n",
    "\n",
    "output_file = open('output.pdf', 'wb')\n",
    "pdf_writer.write(output_file)\n",
    "output_file.close()\n"
   ]
  },
  {
   "cell_type": "markdown",
   "id": "2e4f184a",
   "metadata": {},
   "source": [
    "6. What is the difference between a Run object and a Paragraph object?"
   ]
  },
  {
   "cell_type": "markdown",
   "id": "aae4eb96",
   "metadata": {},
   "source": [
    "Ans. a Paragraph object represents a block of text within a document, while a Run object represents a specific formatted portion or subset of text within a paragraph. The Run objects within a paragraph allow for more granular control over formatting changes within the paragraph."
   ]
  },
  {
   "cell_type": "markdown",
   "id": "042e4dee",
   "metadata": {},
   "source": [
    "7. How do you obtain a list of Paragraph objects for a Document object that’s stored in a variable named doc?"
   ]
  },
  {
   "cell_type": "code",
   "execution_count": 9,
   "id": "8bd8b895",
   "metadata": {},
   "outputs": [
    {
     "name": "stdout",
     "output_type": "stream",
     "text": [
      "Hello, world!\n"
     ]
    }
   ],
   "source": [
    "from docx import Document\n",
    "\n",
    "doc = Document(\"new_document.docx\")\n",
    "\n",
    "paragraphs = doc.paragraphs\n",
    "\n",
    "for paragraph in paragraphs:\n",
    "    print(paragraph.text)"
   ]
  },
  {
   "cell_type": "markdown",
   "id": "0eeded3b",
   "metadata": {},
   "source": [
    "8. What type of object has bold, underline, italic, strike, and outline variables?"
   ]
  },
  {
   "cell_type": "markdown",
   "id": "b1932013",
   "metadata": {},
   "source": [
    "Ans. the type of object that has attributes like bold, underline, italic, strike, and outline is the Font object."
   ]
  },
  {
   "cell_type": "markdown",
   "id": "1a1ca8e1",
   "metadata": {},
   "source": [
    "9. What is the difference between False, True, and None for the bold variable?"
   ]
  },
  {
   "cell_type": "markdown",
   "id": "ec126745",
   "metadata": {},
   "source": [
    "Ans. \n",
    "\n",
    "False: When the bold attribute is set to False, it means that the text is not bold. \n",
    "\n",
    "True: When the bold attribute is set to True, it means that the text is bold.\n",
    "\n",
    "None: When the bold attribute is set to None, it means that the bold styling is inherited from the underlying style or the default style. "
   ]
  },
  {
   "cell_type": "markdown",
   "id": "c63842ba",
   "metadata": {},
   "source": [
    "10. How do you create a Document object for a new Word document?"
   ]
  },
  {
   "cell_type": "markdown",
   "id": "6c4566f9",
   "metadata": {},
   "source": [
    "Ans.\n",
    "\n",
    "To create a Document object for a new Word document using the python-docx library, you can simply call the Document() "
   ]
  },
  {
   "cell_type": "code",
   "execution_count": 3,
   "id": "8a2fc02a",
   "metadata": {},
   "outputs": [
    {
     "name": "stdout",
     "output_type": "stream",
     "text": [
      "Collecting python-docx\n",
      "  Downloading python-docx-0.8.11.tar.gz (5.6 MB)\n",
      "Requirement already satisfied: lxml>=2.3.2 in c:\\users\\deepa\\anaconda3\\lib\\site-packages (from python-docx) (4.6.3)\n",
      "Building wheels for collected packages: python-docx\n",
      "  Building wheel for python-docx (setup.py): started\n",
      "  Building wheel for python-docx (setup.py): finished with status 'done'\n",
      "  Created wheel for python-docx: filename=python_docx-0.8.11-py3-none-any.whl size=184490 sha256=74007986d5157ad6494898a7e067b03f2499f2ad9ca90020837b02f39dd98e48\n",
      "  Stored in directory: c:\\users\\deepa\\appdata\\local\\pip\\cache\\wheels\\83\\8b\\7c\\09ae60c42c7ba4ed2dddaf2b8b9186cb105255856d6ed3dba5\n",
      "Successfully built python-docx\n",
      "Installing collected packages: python-docx\n",
      "Successfully installed python-docx-0.8.11\n"
     ]
    }
   ],
   "source": [
    "!pip install python-docx\n"
   ]
  },
  {
   "cell_type": "code",
   "execution_count": 4,
   "id": "617145c0",
   "metadata": {},
   "outputs": [],
   "source": [
    "import docx\n",
    "\n",
    "from docx import Document\n",
    "\n",
    "doc = Document()\n",
    "\n",
    "paragraph = doc.add_paragraph(\"Hello, world!\")\n",
    "\n",
    "doc.save(\"new_document.docx\")"
   ]
  },
  {
   "cell_type": "markdown",
   "id": "1446f15b",
   "metadata": {},
   "source": [
    "11. How do you add a paragraph with the text 'Hello, there!' to a Document object stored in a variable named doc?"
   ]
  },
  {
   "cell_type": "markdown",
   "id": "ab6a75de",
   "metadata": {},
   "source": [
    "Ans. To add a paragraph with the text \"Hello, there!\" to a Document object stored in a variable named doc using the python-docx library, you can use the add_paragraph() method. "
   ]
  },
  {
   "cell_type": "code",
   "execution_count": 5,
   "id": "6a053d8e",
   "metadata": {},
   "outputs": [],
   "source": [
    "from docx import Document\n",
    "\n",
    "# Assuming `doc` is a Document object\n",
    "doc = Document(\"new_document.docx\")\n",
    "paragraph = doc.add_paragraph(\"Hello, there!\")\n",
    "\n",
    "# Save the modified document\n",
    "doc.save(\"modified_document.docx\")\n"
   ]
  },
  {
   "cell_type": "markdown",
   "id": "3d2c29cc",
   "metadata": {},
   "source": [
    "12. What integers represent the levels of headings available in Word documents?"
   ]
  },
  {
   "cell_type": "markdown",
   "id": "c88a2610",
   "metadata": {},
   "source": [
    "Ans. \n",
    "\n",
    "Heading 1: Level 1 heading is represented by the integer value 1.\n",
    "\n",
    "Heading 2: Level 2 heading is represented by the integer value 2.\n",
    "\n",
    "Heading 3: Level 3 heading is represented by the integer value 3."
   ]
  },
  {
   "cell_type": "code",
   "execution_count": null,
   "id": "b62c0218",
   "metadata": {},
   "outputs": [],
   "source": []
  }
 ],
 "metadata": {
  "kernelspec": {
   "display_name": "Python 3 (ipykernel)",
   "language": "python",
   "name": "python3"
  },
  "language_info": {
   "codemirror_mode": {
    "name": "ipython",
    "version": 3
   },
   "file_extension": ".py",
   "mimetype": "text/x-python",
   "name": "python",
   "nbconvert_exporter": "python",
   "pygments_lexer": "ipython3",
   "version": "3.9.7"
  }
 },
 "nbformat": 4,
 "nbformat_minor": 5
}
