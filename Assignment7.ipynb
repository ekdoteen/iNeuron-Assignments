{
 "cells": [
  {
   "cell_type": "markdown",
   "id": "add61fed",
   "metadata": {},
   "source": [
    "# Python basics Assignment 7"
   ]
  },
  {
   "cell_type": "markdown",
   "id": "f97a764e",
   "metadata": {},
   "source": [
    "1. What is the name of the feature responsible for generating Regex objects?"
   ]
  },
  {
   "cell_type": "markdown",
   "id": "781e0a7f",
   "metadata": {},
   "source": [
    "Ans. The re.compile() function is used to compile a regular expression pattern into a Regex object, which can then be used for various operations such as searching, matching, and manipulation of strings."
   ]
  },
  {
   "cell_type": "markdown",
   "id": "02edb22d",
   "metadata": {},
   "source": [
    "2. Why do raw strings often appear in Regex objects?"
   ]
  },
  {
   "cell_type": "markdown",
   "id": "e519caa5",
   "metadata": {},
   "source": [
    "Ans. Raw strings are commonly used in regular expressions to represent patterns because they prevent backslashes (\\) from being treated as escape characters by Python's string literal syntax. \n",
    "To avoid conflicts between Python's string escape characters and regular expression metacharacters, raw strings (prefixed with r) are often used in regular expressions."
   ]
  },
  {
   "cell_type": "markdown",
   "id": "e4a0a114",
   "metadata": {},
   "source": [
    "3. What is the return value of the search() method?"
   ]
  },
  {
   "cell_type": "markdown",
   "id": "b17fb042",
   "metadata": {},
   "source": [
    "Ans. The re.search() function will search the regular expression pattern and return the first occurrence. it will check all lines of the input string. If the pattern is found, the match object will be returned, otherwise “null” is returned."
   ]
  },
  {
   "cell_type": "markdown",
   "id": "d91849b5",
   "metadata": {},
   "source": [
    "4. From a Match item, how do you get the actual strings that match the pattern?"
   ]
  },
  {
   "cell_type": "markdown",
   "id": "03f92c6c",
   "metadata": {},
   "source": [
    "Ans. The group() method of a match object returns the actual string that matched the pattern."
   ]
  },
  {
   "cell_type": "code",
   "execution_count": 1,
   "id": "bf89e52a",
   "metadata": {},
   "outputs": [],
   "source": [
    "import re\n",
    "phoneNumRegex = re.compile(r'\\d\\d\\d-\\d\\d\\d-\\d\\d\\d\\d')\n",
    "mo = phoneNumRegex.search('My number is 415-555-4242.')"
   ]
  },
  {
   "cell_type": "code",
   "execution_count": 3,
   "id": "75c712ff",
   "metadata": {},
   "outputs": [
    {
     "data": {
      "text/plain": [
       "'415-555-4242'"
      ]
     },
     "execution_count": 3,
     "metadata": {},
     "output_type": "execute_result"
    }
   ],
   "source": [
    "mo.group()"
   ]
  },
  {
   "cell_type": "markdown",
   "id": "9a7ff6e7",
   "metadata": {},
   "source": [
    "5. In the regex which created from the r'(\\d\\d\\d)-(\\d\\d\\d-\\d\\d\\d\\d)', what does group zero cover? Group 2? Group 1?"
   ]
  },
  {
   "cell_type": "markdown",
   "id": "450c0112",
   "metadata": {},
   "source": [
    "Ans. \n",
    "In the regular expression r'(\\d\\d\\d)-(\\d\\d\\d-\\d\\d\\d\\d)', the group zero (group(0)) covers the entire matched string, including both capturing groups and any characters that matched the pattern.\n",
    "\n",
    "Group 1 (group(1)) corresponds to the first capturing group (\\d\\d\\d), which captures three digits before the hyphen. It represents the first part of the matched string.\n",
    "\n",
    "Group 2 (group(2)) corresponds to the second capturing group (\\d\\d\\d-\\d\\d\\d\\d), which captures a group of three digits followed by a hyphen and four more digits. It represents the second part of the matched string.\n"
   ]
  },
  {
   "cell_type": "code",
   "execution_count": 4,
   "id": "c6978ddc",
   "metadata": {},
   "outputs": [
    {
     "name": "stdout",
     "output_type": "stream",
     "text": [
      "Pattern found!\n",
      "Entire match: 123-456-7890\n",
      "Group 1: 123\n",
      "Group 2: 456-7890\n"
     ]
    }
   ],
   "source": [
    "import re\n",
    "\n",
    "pattern = r'(\\d\\d\\d)-(\\d\\d\\d-\\d\\d\\d\\d)'\n",
    "text = \"Phone number: 123-456-7890\"\n",
    "\n",
    "regex = re.compile(pattern)\n",
    "match = regex.search(text)\n",
    "\n",
    "if match:\n",
    "    print(\"Pattern found!\")\n",
    "    print(\"Entire match:\", match.group(0))  # Group 0: Entire matched string\n",
    "    print(\"Group 1:\", match.group(1))        # Group 1: First capturing group\n",
    "    print(\"Group 2:\", match.group(2))        # Group 2: Second capturing group\n",
    "else:\n",
    "    print(\"Pattern not found!\")"
   ]
  },
  {
   "cell_type": "markdown",
   "id": "4ffb8957",
   "metadata": {},
   "source": [
    "6. In standard expression syntax, parentheses and intervals have distinct meanings. How can you tell a regex that you want it to fit real parentheses and periods?"
   ]
  },
  {
   "cell_type": "markdown",
   "id": "6f580bdb",
   "metadata": {},
   "source": [
    "Ans. To match literal parentheses and periods in a regular expression pattern, you can use the backslash character to escape them. By preceding a special character with a backslash, you indicate that you want to match the character itself rather than its special meaning in regex syntax."
   ]
  },
  {
   "cell_type": "markdown",
   "id": "19e0c513",
   "metadata": {},
   "source": [
    "7. The findall() method returns a string list or a list of string tuples. What causes it to return one of the two options?"
   ]
  },
  {
   "cell_type": "markdown",
   "id": "30dd6fb5",
   "metadata": {},
   "source": [
    "Ans. \n",
    "\n",
    "The findall() method in Python's re module returns a list of strings when the regular expression pattern being searched has no capturing groups. On the other hand, it returns a list of string tuples when the pattern includes capturing groups.\n",
    "\n",
    "If the regular expression pattern contains no capturing groups (expressions enclosed in parentheses ()), findall() will return a list of strings. Each string in the list represents a complete match of the pattern within the searched string."
   ]
  },
  {
   "cell_type": "code",
   "execution_count": 6,
   "id": "4c58fbd5",
   "metadata": {},
   "outputs": [
    {
     "name": "stdout",
     "output_type": "stream",
     "text": [
      "['10', '5']\n"
     ]
    }
   ],
   "source": [
    "import re\n",
    "\n",
    "pattern = r'\\d+'\n",
    "text = 'I have 10 apples and 5 bananas'\n",
    "\n",
    "matches = re.findall(pattern, text)\n",
    "\n",
    "print(matches)"
   ]
  },
  {
   "cell_type": "markdown",
   "id": "7c853d22",
   "metadata": {},
   "source": [
    "On the other hand, when the regular expression pattern includes capturing groups, findall() returns a list of string tuples. Each tuple in the list represents a complete match, and each element within the tuple corresponds to a capturing group within the pattern."
   ]
  },
  {
   "cell_type": "code",
   "execution_count": 8,
   "id": "306c93a3",
   "metadata": {},
   "outputs": [
    {
     "name": "stdout",
     "output_type": "stream",
     "text": [
      "[('123', '456'), ('789', '012')]\n"
     ]
    }
   ],
   "source": [
    "import re\n",
    "\n",
    "pattern = r'(\\d+)-(\\d+)'\n",
    "text = 'The phone numbers are 123-456 and 789-012'\n",
    "\n",
    "matches = re.findall(pattern, text)\n",
    "\n",
    "print(matches)"
   ]
  },
  {
   "cell_type": "markdown",
   "id": "4485546f",
   "metadata": {},
   "source": [
    "In this example, the pattern r'(\\d+)-(\\d+)' matches two sets of digits separated by a hyphen. The pattern includes two capturing groups. When findall() is used, it returns a list of string tuples, where each tuple contains the complete match and the matched groups. \n",
    "\n",
    "So, the presence or absence of capturing groups in the regular expression pattern determines whether findall() returns a list of strings or a list of string tuples."
   ]
  },
  {
   "cell_type": "markdown",
   "id": "c036b85d",
   "metadata": {},
   "source": [
    "8. In standard expressions, what does the | character mean?"
   ]
  },
  {
   "cell_type": "markdown",
   "id": "ee9ec625",
   "metadata": {},
   "source": [
    "Ans. \n",
    "\n",
    "In Python, the '|' operator is defined by default on integer types and set types.\n",
    "\n",
    "If the two operands are integers, then it will perform a bitwise OR, which is a mathematical operation.\n",
    "\n",
    "If the two operands are set types, the '|' operator will return the union of two sets."
   ]
  },
  {
   "cell_type": "markdown",
   "id": "60cb8579",
   "metadata": {},
   "source": [
    "9. In regular expressions, what does the character stand for?"
   ]
  },
  {
   "cell_type": "markdown",
   "id": "9be74b4c",
   "metadata": {},
   "source": [
    "In regular expression, it is used to denote a logical OR operation, allowing you to specify multiple alternative patterns to match. It matches the left-hand side (LHS) if it is found, or the right-hand side (RHS) if the LHS is not found."
   ]
  },
  {
   "cell_type": "code",
   "execution_count": 9,
   "id": "56156cff",
   "metadata": {},
   "outputs": [
    {
     "name": "stdout",
     "output_type": "stream",
     "text": [
      "['cat', 'dog']\n"
     ]
    }
   ],
   "source": [
    "import re\n",
    "\n",
    "pattern = r'cat|dog'\n",
    "text = 'I have a cat and a dog'\n",
    "\n",
    "matches = re.findall(pattern, text)\n",
    "\n",
    "print(matches)"
   ]
  },
  {
   "cell_type": "markdown",
   "id": "e7467e23",
   "metadata": {},
   "source": [
    "10.In regular expressions, what is the difference between the + and * characters?"
   ]
  },
  {
   "cell_type": "markdown",
   "id": "eca49750",
   "metadata": {},
   "source": [
    "Ans. In regular expressions, the + and * characters are quantifiers that specify the number of occurrences of the preceding element in the pattern\n",
    "\n",
    "+ (Plus): The \"+\" quantifier matches one or more occurrences of the preceding element.\n",
    "It requires at least one occurrence of the preceding element for a match.\n",
    "\n",
    "* (Asterisk):\n",
    "The \"*\" quantifier matches zero or more occurrences of the preceding element.\n",
    "It allows for an optional occurrence of the preceding element in the pattern."
   ]
  },
  {
   "cell_type": "code",
   "execution_count": 11,
   "id": "245b3447",
   "metadata": {},
   "outputs": [
    {
     "name": "stdout",
     "output_type": "stream",
     "text": [
      "['ab', 'abb', 'abb']\n",
      "['a', 'ab', 'abb', 'abb']\n"
     ]
    }
   ],
   "source": [
    "import re\n",
    "\n",
    "pattern1 = r'ab+'  # Matches 'a' followed by one or more 'b'\n",
    "pattern2 = r'ab*'  # Matches 'a' followed by zero or more 'b'\n",
    "\n",
    "text = 'a ab abb abb'\n",
    "\n",
    "matches1 = re.findall(pattern1, text)\n",
    "matches2 = re.findall(pattern2, text)\n",
    "\n",
    "print(matches1)  # Output: ['ab', 'abb', 'abb']\n",
    "print(matches2)  # Output: ['a', 'ab', 'abb', 'abb']"
   ]
  },
  {
   "cell_type": "markdown",
   "id": "fa008bbd",
   "metadata": {},
   "source": [
    "11. What is the difference between {4} and {4,5} in regular expression?"
   ]
  },
  {
   "cell_type": "markdown",
   "id": "a7306c71",
   "metadata": {},
   "source": [
    "Ans. The {4} quantifier matches exactly four occurrences of the preceding element.\n",
    "It specifies a fixed repetition count.\n",
    "\n",
    "The {4,5} quantifier matches a range of four to five occurrences of the preceding element.\n",
    "It specifies a minimum and maximum repetition count."
   ]
  },
  {
   "cell_type": "markdown",
   "id": "a79ed5b0",
   "metadata": {},
   "source": [
    "12. What do you mean by the \\d, \\w, and \\s shorthand character classes signify in regular expressions?"
   ]
  },
  {
   "cell_type": "markdown",
   "id": "48fee7aa",
   "metadata": {},
   "source": [
    "Ans. \n",
    "\n",
    "The \\d shorthand character class matches any digit character.\n",
    "\n",
    "The \\w shorthand character class matches any word character.\n",
    "\n",
    "The \\s shorthand character class matches any whitespace character."
   ]
  },
  {
   "cell_type": "code",
   "execution_count": 12,
   "id": "a61d4ecc",
   "metadata": {},
   "outputs": [
    {
     "name": "stdout",
     "output_type": "stream",
     "text": [
      "['1', '2', '3']\n",
      "['H', 'e', 'l', 'l', 'o', '1', '2', '3', 'w', 'o', 'r', 'l', 'd']\n",
      "[' ', ' ']\n"
     ]
    }
   ],
   "source": [
    "import re\n",
    "\n",
    "pattern1 = r'\\d'  # Matches a single digit\n",
    "pattern2 = r'\\w'  # Matches a single word character\n",
    "pattern3 = r'\\s'  # Matches a single whitespace character\n",
    "\n",
    "text = 'Hello 123 world!'\n",
    "\n",
    "matches1 = re.findall(pattern1, text)\n",
    "matches2 = re.findall(pattern2, text)\n",
    "matches3 = re.findall(pattern3, text)\n",
    "\n",
    "print(matches1)  \n",
    "print(matches2)  \n",
    "print(matches3)  "
   ]
  },
  {
   "cell_type": "markdown",
   "id": "ffe2b1b3",
   "metadata": {},
   "source": [
    "13. What do means by \\D, \\W, and \\S shorthand character classes signify in regular expressions?"
   ]
  },
  {
   "cell_type": "markdown",
   "id": "bb867b4f",
   "metadata": {},
   "source": [
    "Ans. In regular expressions, the shorthand character classes \\D, \\W, and \\S are negated versions of the \\d, \\w, and \\s shorthand character classes, respectively. They represent predefined character classes that match specific types of characters that are not within the original character classes.\n",
    "\n",
    "The \\D shorthand character class matches any character that is not a digit.\n",
    "\n",
    "The \\W shorthand character class matches any character that is not a word character.\n",
    "\n",
    "The \\S shorthand character class matches any character that is not a whitespace character."
   ]
  },
  {
   "cell_type": "code",
   "execution_count": 13,
   "id": "f12a65b6",
   "metadata": {},
   "outputs": [
    {
     "name": "stdout",
     "output_type": "stream",
     "text": [
      "['H', 'e', 'l', 'l', 'o', ' ', ' ', 'w', 'o', 'r', 'l', 'd', '!']\n",
      "[' ', ' ', '!']\n",
      "['H', 'e', 'l', 'l', 'o', '1', '2', '3', 'w', 'o', 'r', 'l', 'd', '!']\n"
     ]
    }
   ],
   "source": [
    "import re\n",
    "\n",
    "pattern1 = r'\\D'  # Matches a single non-digit character\n",
    "pattern2 = r'\\W'  # Matches a single non-word character\n",
    "pattern3 = r'\\S'  # Matches a single non-whitespace character\n",
    "\n",
    "text = 'Hello 123 world!'\n",
    "\n",
    "matches1 = re.findall(pattern1, text)\n",
    "matches2 = re.findall(pattern2, text)\n",
    "matches3 = re.findall(pattern3, text)\n",
    "\n",
    "print(matches1)  \n",
    "print(matches2)  \n",
    "print(matches3)"
   ]
  },
  {
   "cell_type": "markdown",
   "id": "06b9d4e6",
   "metadata": {},
   "source": [
    "14. What is the difference between .*? and .*?"
   ]
  },
  {
   "cell_type": "markdown",
   "id": "d54516f4",
   "metadata": {},
   "source": [
    "Ans. \n",
    "\n",
    "The .*? construct is a non-greedy or lazy quantifier.\n",
    "It matches as few characters as possible to satisfy the pattern.\n",
    "It will stop matching as soon as the subsequent part of the pattern can be matched.\n",
    "For example, in the pattern a.*?b, if there are multiple occurrences of \"a\" and \"b\" in the input, it will match the shortest possible substring that starts with \"a\" and ends with \"b\".\n",
    "\n",
    "The .* construct is a greedy quantifier.\n",
    "It matches as many characters as possible to satisfy the pattern.\n",
    "It will match as much of the input as it can and still allow the subsequent part of the pattern to match.\n",
    "For example, in the pattern a.*b, if there are multiple occurrences of \"a\" and \"b\" in the input, it will match the longest possible substring that starts with \"a\" and ends with \"b\"."
   ]
  },
  {
   "cell_type": "code",
   "execution_count": 14,
   "id": "31d4ea4d",
   "metadata": {},
   "outputs": [
    {
     "name": "stdout",
     "output_type": "stream",
     "text": [
      "['aab', 'ab']\n",
      "['aabab']\n"
     ]
    }
   ],
   "source": [
    "import re\n",
    "\n",
    "text = 'aabab'\n",
    "\n",
    "pattern1 = r'a.*?b'  # Non-greedy match\n",
    "pattern2 = r'a.*b'   # Greedy match\n",
    "\n",
    "matches1 = re.findall(pattern1, text)\n",
    "matches2 = re.findall(pattern2, text)\n",
    "\n",
    "print(matches1)  \n",
    "print(matches2)  "
   ]
  },
  {
   "cell_type": "markdown",
   "id": "989378f5",
   "metadata": {},
   "source": [
    "15. What is the syntax for matching both numbers and lowercase letters with a character class?"
   ]
  },
  {
   "cell_type": "markdown",
   "id": "16dec1dc",
   "metadata": {},
   "source": [
    "Ans. This character class [0-9a-z] will match any single character that is a digit from 0 to 9 or a lowercase letter from a to z. The hyphen - inside the character class denotes a range of characters."
   ]
  },
  {
   "cell_type": "markdown",
   "id": "e25d168f",
   "metadata": {},
   "source": [
    "16. What is the procedure for making a normal expression in regax case insensitive?"
   ]
  },
  {
   "cell_type": "markdown",
   "id": "fb30e774",
   "metadata": {},
   "source": [
    "Ans. To make a regular expression case-insensitive in Python, you can use the re.IGNORECASE flag or the (?i) flag within the regular expression pattern. "
   ]
  },
  {
   "cell_type": "code",
   "execution_count": 15,
   "id": "61e7deb5",
   "metadata": {},
   "outputs": [
    {
     "name": "stdout",
     "output_type": "stream",
     "text": [
      "['Example']\n"
     ]
    }
   ],
   "source": [
    "import re\n",
    "\n",
    "pattern = r'example'\n",
    "text = 'This is an Example'\n",
    "\n",
    "matches = re.findall(pattern, text, re.IGNORECASE)\n",
    "print(matches)  "
   ]
  },
  {
   "cell_type": "code",
   "execution_count": 16,
   "id": "2679afa2",
   "metadata": {},
   "outputs": [
    {
     "name": "stdout",
     "output_type": "stream",
     "text": [
      "['Example']\n"
     ]
    }
   ],
   "source": [
    "import re\n",
    "\n",
    "pattern = r'(?i)example'\n",
    "text = 'This is an Example'\n",
    "\n",
    "matches = re.findall(pattern, text)\n",
    "print(matches) "
   ]
  },
  {
   "cell_type": "markdown",
   "id": "7a7bc336",
   "metadata": {},
   "source": [
    "17. What does the . character normally match? What does it match if re.DOTALL is passed as 2nd argument in re.compile()?"
   ]
  },
  {
   "cell_type": "markdown",
   "id": "8e3fb9f5",
   "metadata": {},
   "source": [
    "Ans. \n",
    "In regular expressions, the . (dot) character normally matches any character except a newline character (\\n). It is a wildcard that represents any single character.\n",
    "\n",
    "However, if the re.DOTALL flag (or re.S) is passed as the second argument to the re.compile() function or used inline in the regular expression pattern, the behavior of the dot character changes. In this case, the dot (.) matches any character, including newline characters."
   ]
  },
  {
   "cell_type": "code",
   "execution_count": 19,
   "id": "92ae6727",
   "metadata": {},
   "outputs": [
    {
     "name": "stdout",
     "output_type": "stream",
     "text": [
      "<re.Match object; span=(0, 5), match='Hello'>\n",
      "<re.Match object; span=(0, 8), match='Hello\\nWo'>\n"
     ]
    }
   ],
   "source": [
    "import re\n",
    "\n",
    "text = 'Hello\\nWorld'\n",
    "\n",
    "pattern1 = r'H.*o'   # Dot does not match newline by default\n",
    "pattern2 = r'H.*o'   # Dot matches newline with re.DOTALL\n",
    "\n",
    "regex1 = re.compile(pattern1)\n",
    "regex2 = re.compile(pattern2, re.DOTALL)\n",
    "\n",
    "match1 = regex1.search(text)\n",
    "match2 = regex2.search(text)\n",
    "\n",
    "print(match1)  \n",
    "print(match2)"
   ]
  },
  {
   "cell_type": "markdown",
   "id": "8bd54990",
   "metadata": {},
   "source": [
    "18. If numReg = re.compile(r'\\d+'), what will numRegex.sub('X', '11 drummers, 10 pipers, five rings, 4 hen') return?"
   ]
  },
  {
   "cell_type": "markdown",
   "id": "778d48cf",
   "metadata": {},
   "source": [
    "Ans. If numRegex is defined as re.compile(r'\\d+'), and the sub() method is called with the replacement string 'X' and the input string '11 drummers, 10 pipers, five rings, 4 hen', the sub() method will replace all occurrences of digits with 'X'. The returned value will be:\n",
    "\n",
    "'X drummers, X pipers, five rings, X hen'"
   ]
  },
  {
   "cell_type": "markdown",
   "id": "71ec847c",
   "metadata": {},
   "source": [
    "19. What does passing re.VERBOSE as the 2nd argument to re.compile() allow to do?"
   ]
  },
  {
   "cell_type": "markdown",
   "id": "413c7670",
   "metadata": {},
   "source": [
    "Ans. Passing re.VERBOSE as the second argument to re.compile() allows you to write more readable and organized regular expressions by enabling the use of comments and whitespace within the pattern. It helps in improving the clarity and maintainability of complex regular expressions."
   ]
  },
  {
   "cell_type": "code",
   "execution_count": 22,
   "id": "bdae3fdb",
   "metadata": {},
   "outputs": [],
   "source": [
    "# Using VERBOSE\n",
    "regex_email = re.compile(r\"\"\"\n",
    "            ^([a-z0-9_\\.-]+)              # local Part\n",
    "            @                             # single @ sign\n",
    "            ([0-9a-z\\.-]+)                # Domain name\n",
    "            \\.                            # single Dot .\n",
    "            ([a-z]{2,6})$                 # Top level Domain  \n",
    "             \"\"\",re.VERBOSE | re.IGNORECASE)"
   ]
  },
  {
   "cell_type": "markdown",
   "id": "cf733794",
   "metadata": {},
   "source": [
    "20. How would you write a regex that match a number with comma for every three digits? It must match the given following:\n",
    "\n",
    "'42'\n",
    "\n",
    "'1,234'\n",
    "\n",
    "'6,368,745'\n",
    "\n",
    "but not the following:\n",
    "\n",
    "'12,34,567' (which has only two digits between the commas)\n",
    "\n",
    "'1234' (which lacks commas)\n",
    " "
   ]
  },
  {
   "cell_type": "code",
   "execution_count": 23,
   "id": "c07cdaf0",
   "metadata": {},
   "outputs": [
    {
     "name": "stdout",
     "output_type": "stream",
     "text": [
      "'42' is a valid number.\n",
      "'1,234' is a valid number.\n",
      "'6,368,745' is a valid number.\n",
      "'12,34,567' is not a valid number.\n",
      "'1234' is not a valid number.\n"
     ]
    }
   ],
   "source": [
    "import re\n",
    "\n",
    "pattern = r'^\\d{1,3}(,\\d{3})*$'\n",
    "\n",
    "numbers = ['42', '1,234', '6,368,745', '12,34,567', '1234']\n",
    "\n",
    "for number in numbers:\n",
    "    match = re.match(pattern, number)\n",
    "    if match:\n",
    "        print(f\"'{number}' is a valid number.\")\n",
    "    else:\n",
    "        print(f\"'{number}' is not a valid number.\")"
   ]
  },
  {
   "cell_type": "markdown",
   "id": "963ed6b1",
   "metadata": {},
   "source": [
    "Explanation of the pattern r'^\\d{1,3}(,\\d{3})*$:\n",
    "\n",
    "^ asserts the start of the string.\n",
    "\n",
    "\\d{1,3} matches one to three digits.\n",
    "\n",
    "(,\\d{3})* matches zero or more occurrences of a comma followed by exactly three digits.\n",
    "\n",
    "$ asserts the end of the string."
   ]
  },
  {
   "cell_type": "markdown",
   "id": "95af4c97",
   "metadata": {},
   "source": [
    "21. How would you write a regex that matches the full name of someone whose last name is Watanabe? You can assume that the first name that comes before it will always be one word that begins with a capital letter. The regex must match the following:\n",
    "\n",
    "'Haruto Watanabe'\n",
    "\n",
    "'Alice Watanabe'\n",
    "\n",
    "'RoboCop Watanabe'\n",
    "\n",
    "but not the following:\n",
    "\n",
    "'haruto Watanabe' (where the first name is not capitalized)\n",
    "\n",
    "'Mr. Watanabe' (where the preceding word has a nonletter character)\n",
    "\n",
    "'Watanabe' (which has no first name)\n",
    "\n",
    "'Haruto watanabe' (where Watanabe is not capitalized)\n",
    "\n"
   ]
  },
  {
   "cell_type": "code",
   "execution_count": 24,
   "id": "d4b23be5",
   "metadata": {},
   "outputs": [
    {
     "name": "stdout",
     "output_type": "stream",
     "text": [
      "'Haruto Watanabe' is a valid full name.\n",
      "'Alice Watanabe' is a valid full name.\n",
      "'RoboCop Watanabe' is a valid full name.\n",
      "'haruto Watanabe' is not a valid full name.\n",
      "'Mr. Watanabe' is not a valid full name.\n",
      "'Watanabe' is not a valid full name.\n",
      "'Haruto watanabe' is not a valid full name.\n"
     ]
    }
   ],
   "source": [
    "import re\n",
    "\n",
    "pattern = r'^[A-Z][a-zA-Z]* Watanabe$'\n",
    "\n",
    "names = ['Haruto Watanabe', 'Alice Watanabe', 'RoboCop Watanabe', 'haruto Watanabe', 'Mr. Watanabe', 'Watanabe', 'Haruto watanabe']\n",
    "\n",
    "for name in names:\n",
    "    match = re.match(pattern, name)\n",
    "    if match:\n",
    "        print(f\"'{name}' is a valid full name.\")\n",
    "    else:\n",
    "        print(f\"'{name}' is not a valid full name.\")"
   ]
  },
  {
   "cell_type": "markdown",
   "id": "fa214d7d",
   "metadata": {},
   "source": [
    "Explanation of the pattern r'^[A-Z][a-zA-Z]* Watanabe$':\n",
    "\n",
    "^ asserts the start of the string.\n",
    "\n",
    "[A-Z] matches a single capital letter as the first character of the first name.\n",
    "\n",
    "[a-zA-Z]* matches zero or more lowercase or uppercase letters for the remaining characters of the first name.\n",
    "\n",
    "matches a space character that separates the first and last names.\n",
    "\n",
    "Watanabe matches the literal string \"Watanabe\" for the last name.\n",
    "\n",
    "$ asserts the end of the string."
   ]
  },
  {
   "cell_type": "markdown",
   "id": "b0ca6474",
   "metadata": {},
   "source": [
    "22. How would you write a regex that matches a sentence where the first word is either Alice, Bob, or Carol; the second word is either eats, pets, or throws; the third word is apples, cats, or baseballs; and the sentence ends with a period? This regex should be case-insensitive. It must match the following:\n",
    "\n",
    "'Alice eats apples.'\n",
    "\n",
    "'Bob pets cats.'\n",
    "\n",
    "'Carol throws baseballs.'\n",
    "\n",
    "'Alice throws Apples.'\n",
    "\n",
    "'BOB EATS CATS.'\n",
    "\n",
    "but not the following:\n",
    "\n",
    "'RoboCop eats apples.'\n",
    "\n",
    "'ALICE THROWS FOOTBALLS.'\n",
    "\n",
    "'Carol eats 7 cats.'\n"
   ]
  },
  {
   "cell_type": "code",
   "execution_count": 26,
   "id": "c2e79b9b",
   "metadata": {},
   "outputs": [
    {
     "name": "stdout",
     "output_type": "stream",
     "text": [
      "'Alice eats apples.' is a valid sentence.\n",
      "'Bob pets cats.' is a valid sentence.\n",
      "'Carol throws baseballs.' is a valid sentence.\n",
      "'Alice throws Apples.' is a valid sentence.\n",
      "'BOB EATS CATS.' is a valid sentence.\n",
      "'RoboCop eats apples.' is not a valid sentence.\n",
      "'ALICE THROWS FOOTBALLS.' is not a valid sentence.\n",
      "'Carol eats 7 cats.' is not a valid sentence.\n"
     ]
    }
   ],
   "source": [
    "import re\n",
    "\n",
    "pattern = r'^(Alice|Bob|Carol) (eats|pets|throws) (apples|cats|baseballs)\\.$'\n",
    "\n",
    "sentences = [\n",
    "    'Alice eats apples.',\n",
    "    'Bob pets cats.',\n",
    "    'Carol throws baseballs.',\n",
    "    'Alice throws Apples.',\n",
    "    'BOB EATS CATS.',\n",
    "    'RoboCop eats apples.',\n",
    "    'ALICE THROWS FOOTBALLS.',\n",
    "    'Carol eats 7 cats.'\n",
    "]\n",
    "\n",
    "for sentence in sentences:\n",
    "    match = re.match(pattern, sentence, re.IGNORECASE)\n",
    "    if match:\n",
    "        print(f\"'{sentence}' is a valid sentence.\")\n",
    "    else:\n",
    "        print(f\"'{sentence}' is not a valid sentence.\")"
   ]
  },
  {
   "cell_type": "markdown",
   "id": "09831552",
   "metadata": {},
   "source": [
    "Explanation of the pattern r'^(Alice|Bob|Carol) (eats|pets|throws) (apples|cats|baseballs)\\.$':\n",
    "\n",
    "^ asserts the start of the string.\n",
    "\n",
    "(Alice|Bob|Carol) matches either \"Alice\", \"Bob\", or \"Carol\" as the first word of the sentence.\n",
    "\n",
    "(eats|pets|throws) matches either \"eats\", \"pets\", or \"throws\" as the second word of the sentence.\n",
    "\n",
    "(apples|cats|baseballs) matches either \"apples\", \"cats\", or \"baseballs\" as the third word of the sentence.\n",
    "\n",
    "\\. matches the period at the end of the sentence.\n",
    "\n",
    "$ asserts the end of the string.\n",
    "\n",
    "By using the re.IGNORECASE flag, the pattern becomes case-insensitive, allowing the matching of any case variation of the specified words."
   ]
  },
  {
   "cell_type": "code",
   "execution_count": null,
   "id": "b3b631b5",
   "metadata": {},
   "outputs": [],
   "source": []
  }
 ],
 "metadata": {
  "kernelspec": {
   "display_name": "Python 3 (ipykernel)",
   "language": "python",
   "name": "python3"
  },
  "language_info": {
   "codemirror_mode": {
    "name": "ipython",
    "version": 3
   },
   "file_extension": ".py",
   "mimetype": "text/x-python",
   "name": "python",
   "nbconvert_exporter": "python",
   "pygments_lexer": "ipython3",
   "version": "3.9.7"
  }
 },
 "nbformat": 4,
 "nbformat_minor": 5
}
