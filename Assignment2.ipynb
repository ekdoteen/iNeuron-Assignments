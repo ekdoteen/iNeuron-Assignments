{
  "nbformat": 4,
  "nbformat_minor": 0,
  "metadata": {
    "colab": {
      "provenance": []
    },
    "kernelspec": {
      "name": "python3",
      "display_name": "Python 3"
    },
    "language_info": {
      "name": "python"
    }
  },
  "cells": [
    {
      "cell_type": "code",
      "execution_count": null,
      "metadata": {
        "id": "aauClF-Y104g"
      },
      "outputs": [],
      "source": []
    },
    {
      "cell_type": "markdown",
      "source": [
        "1.What are the two values of the Boolean data type? How do you write them?"
      ],
      "metadata": {
        "id": "8iJl8DdO3Na2"
      }
    },
    {
      "cell_type": "markdown",
      "source": [
        "Ans. True and False are the two output you will get.\n",
        "\n",
        "When there is a condition mentioned, then the output will be True or False"
      ],
      "metadata": {
        "id": "FBOCu5KM4sRx"
      }
    },
    {
      "cell_type": "markdown",
      "source": [
        "2. What are the three different types of Boolean operators?"
      ],
      "metadata": {
        "id": "AitcJPy15UOY"
      }
    },
    {
      "cell_type": "markdown",
      "source": [
        "Ans. AND, OR, NOT"
      ],
      "metadata": {
        "id": "xsg1B3dp5aLg"
      }
    },
    {
      "cell_type": "markdown",
      "source": [
        "3. Make a list of each Boolean operator's truth tables (i.e. every possible combination of Boolean values for the operator and what it evaluate )."
      ],
      "metadata": {
        "id": "ABV0GRKD5cae"
      }
    },
    {
      "cell_type": "markdown",
      "source": [
        "OR table:\n",
        "\n",
        "True | True || True\n",
        "\n",
        "True | False || True\n",
        "\n",
        "False | True || True\n",
        "\n",
        "False | False || False\n",
        "\n",
        "\n",
        "AND table:\n",
        "\n",
        "True | True || True\n",
        "\n",
        "True | False || False\n",
        "\n",
        "False | True || False\n",
        "\n",
        "False | False || False\n",
        "\n",
        "NOT table:\n",
        "\n",
        "False || True\n",
        "\n",
        "True || False"
      ],
      "metadata": {
        "id": "0L_cmXpZ534l"
      }
    },
    {
      "cell_type": "markdown",
      "source": [
        "4. What are the values of the following expressions?\n",
        "\n",
        "(5 > 4) and (3 == 5)\n",
        "\n",
        "not (5 > 4)\n",
        "\n",
        "(5 > 4) or (3 == 5)\n",
        "\n",
        "not ((5 > 4) or (3 == 5))\n",
        "\n",
        "(True and True) and (True == False)\n",
        "\n",
        "(not False) or (not True)\n"
      ],
      "metadata": {
        "id": "6YMJVFclFTXq"
      }
    },
    {
      "cell_type": "markdown",
      "source": [
        "Ans.\n",
        "\n",
        "(5 > 4) and (3 == 5)\n",
        ": False\n",
        "\n",
        "not (5 > 4)\n",
        ": False\n",
        "\n",
        "(5 > 4) or (3 == 5)\n",
        ":True\n",
        "\n",
        "not ((5 > 4) or (3 == 5))\n",
        ":False\n",
        "\n",
        "(True and True) and (True == False)\n",
        ":False\n",
        "\n",
        "(not False) or (not True)\n",
        ":True"
      ],
      "metadata": {
        "id": "C8s6EQNXFoJX"
      }
    },
    {
      "cell_type": "code",
      "source": [
        "(5 > 4) or (3 == 5)"
      ],
      "metadata": {
        "colab": {
          "base_uri": "https://localhost:8080/"
        },
        "id": "kbyT2sKd5SbD",
        "outputId": "3c49b75c-42e5-49e6-abca-18afa071cd56"
      },
      "execution_count": 3,
      "outputs": [
        {
          "output_type": "execute_result",
          "data": {
            "text/plain": [
              "True"
            ]
          },
          "metadata": {},
          "execution_count": 3
        }
      ]
    },
    {
      "cell_type": "code",
      "source": [
        "\"\"\"5. What are the six comparison operators?\n",
        "\n",
        "== : eqaul to\n",
        "\n",
        "> : greater than\n",
        "\n",
        "< : less than\n",
        "\n",
        ">= : greater than equal to\n",
        "\n",
        "<= : less than equal to\n",
        "\n",
        "!= : not equal to \"\"\""
      ],
      "metadata": {
        "colab": {
          "base_uri": "https://localhost:8080/",
          "height": 52
        },
        "id": "xNIz2YEAG2b7",
        "outputId": "a3a84f4a-40a9-42e0-fdb5-21657999097a"
      },
      "execution_count": 4,
      "outputs": [
        {
          "output_type": "execute_result",
          "data": {
            "text/plain": [
              "'5. What are the six comparison operators?\\n\\n= : eqaul to\\n\\n> : greater than\\n\\n< : less than\\n\\n>= : greater than equal to\\n\\n<= : less than equal to\\n\\n!= : not equal to '"
            ],
            "application/vnd.google.colaboratory.intrinsic+json": {
              "type": "string"
            }
          },
          "metadata": {},
          "execution_count": 4
        }
      ]
    },
    {
      "cell_type": "markdown",
      "source": [
        "6. How do you tell the difference between the equal to and assignment operators?Describe a condition and when you would use one.\n",
        "\n",
        "Ans. equal to operator is a conditional operator. It is used to get output in boolean data type. It is denoted by ==.\n",
        "\n",
        "While assignment operator is used to assign a value to a variable. It is denoted by =.\n",
        "\n",
        "Example:\n",
        "\n",
        "assign = 2\n",
        "This statement assigns value of 2 to the variable assign.\n",
        "\n",
        "3==2\n",
        "\n",
        "This is a condtion which return False as a result as 3 is not equal to 2.\n",
        "\n",
        "\n",
        "\n"
      ],
      "metadata": {
        "id": "LOBp1b2PKVH3"
      }
    },
    {
      "cell_type": "markdown",
      "source": [
        "7. Identify the three blocks in this code:\n",
        "\n",
        "spam = 0\n",
        "\n",
        "if spam == 10:\n",
        "\n",
        "print('eggs')\n",
        "\n",
        "if spam > 5:\n",
        "\n",
        "print('bacon')\n",
        "\n",
        "else:\n",
        "\n",
        "print('ham')\n",
        "\n",
        "print('spam')\n",
        "\n",
        "print('spam')\n"
      ],
      "metadata": {
        "id": "btd0kwxuOXzC"
      }
    },
    {
      "cell_type": "code",
      "source": [
        "\n",
        "spam = 0\n",
        "if spam == 10:\n",
        "  print('eggs')\n",
        "if spam > 5:\n",
        "  print('bacon')\n",
        "else:\n",
        "  print('ham')\n",
        "print('spam')\n",
        "print('spam')\n"
      ],
      "metadata": {
        "colab": {
          "base_uri": "https://localhost:8080/"
        },
        "id": "ZOFVg9A2KMyf",
        "outputId": "5e948071-14f7-4e21-833e-ad6c52fb8e0d"
      },
      "execution_count": 2,
      "outputs": [
        {
          "output_type": "stream",
          "name": "stdout",
          "text": [
            "ham\n",
            "spam\n",
            "spam\n"
          ]
        }
      ]
    },
    {
      "cell_type": "markdown",
      "source": [
        "8. Write code that prints Hello if 1 is stored in spam, prints Howdy if 2 is stored in spam, and prints Greetings! if anything else is stored in spam."
      ],
      "metadata": {
        "id": "wNBE8WPy3WFZ"
      }
    },
    {
      "cell_type": "code",
      "source": [
        "spam = int(input(\"input value:\"))\n",
        "\n",
        "if spam == 1:\n",
        "  print(\"Hello\")\n",
        "elif spam ==2:\n",
        "  print(\"Howdy\")\n",
        "else:\n",
        "  print(\"Greetings!\")\n"
      ],
      "metadata": {
        "colab": {
          "base_uri": "https://localhost:8080/"
        },
        "id": "wYabYR622sMV",
        "outputId": "471ea570-bbf0-4e9d-867e-c21067a2e285"
      },
      "execution_count": 4,
      "outputs": [
        {
          "output_type": "stream",
          "name": "stdout",
          "text": [
            "input value:1\n",
            "Hello\n"
          ]
        }
      ]
    },
    {
      "cell_type": "markdown",
      "source": [
        "9.If your programme is stuck in an endless loop, what keys you’ll press?\n",
        "\n",
        "Ans. Ctrl + C"
      ],
      "metadata": {
        "id": "J7Vk_7Ie4ITB"
      }
    },
    {
      "cell_type": "markdown",
      "source": [
        "10. How can you tell the difference between break and continue?\n",
        "\n",
        "Ans. break is used to stop a while loop once a certain condition is satisfied. \n",
        "\n",
        "continue is used to bypass or skip the current iteration of a loop."
      ],
      "metadata": {
        "id": "s9vIkEOK4b5g"
      }
    },
    {
      "cell_type": "markdown",
      "source": [
        "11. In a for loop, what is the difference between range(10), range(0, 10), and range(0, 10, 1)?\n",
        "\n",
        "Ans. range(10) : here the range function takes the value of the range which needs to be created as 0 to 9 index as the value given is 10.\n",
        "\n",
        "range(0,10): Here we are defining the starting index as 0.\n",
        "\n",
        "range(0,10,1): Here we are also defining the steps which needs to be skipped. Here the value is 1, so it will print the same."
      ],
      "metadata": {
        "id": "dN-eCq1V5dlm"
      }
    },
    {
      "cell_type": "markdown",
      "source": [
        "12. Write a short program that prints the numbers 1 to 10 using a for loop. Then write an equivalent program that prints the numbers 1 to 10 using a while loop"
      ],
      "metadata": {
        "id": "WtRtYErC7m0s"
      }
    },
    {
      "cell_type": "code",
      "source": [
        "for i in range(1,11):\n",
        "  print(i)\n",
        "  "
      ],
      "metadata": {
        "colab": {
          "base_uri": "https://localhost:8080/"
        },
        "id": "Nq3MEiGp35Y7",
        "outputId": "2b430ac3-be3a-4da1-973d-c98a95108c87"
      },
      "execution_count": 20,
      "outputs": [
        {
          "output_type": "stream",
          "name": "stdout",
          "text": [
            "1\n",
            "2\n",
            "3\n",
            "4\n",
            "5\n",
            "6\n",
            "7\n",
            "8\n",
            "9\n",
            "10\n"
          ]
        }
      ]
    },
    {
      "cell_type": "code",
      "source": [
        "i = 0\n",
        "\n",
        "while i<10:\n",
        "  i=i+1\n",
        "  print(i)\n"
      ],
      "metadata": {
        "colab": {
          "base_uri": "https://localhost:8080/"
        },
        "id": "mcptyD8D5pSi",
        "outputId": "e6f5b519-90ae-4142-a59e-02782dfe2194"
      },
      "execution_count": 28,
      "outputs": [
        {
          "output_type": "stream",
          "name": "stdout",
          "text": [
            "1\n",
            "2\n",
            "3\n",
            "4\n",
            "5\n",
            "6\n",
            "7\n",
            "8\n",
            "9\n",
            "10\n"
          ]
        }
      ]
    },
    {
      "cell_type": "markdown",
      "source": [
        "13. If you had a function named bacon() inside a module named spam, how would you call it after importing spam?\n",
        "\n",
        "Ans. from spam import bacon() "
      ],
      "metadata": {
        "id": "NqTGwbmv_bpJ"
      }
    },
    {
      "cell_type": "code",
      "source": [],
      "metadata": {
        "id": "8x8MqwRA_sme"
      },
      "execution_count": null,
      "outputs": []
    }
  ]
}