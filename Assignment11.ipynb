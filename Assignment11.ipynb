{
 "cells": [
  {
   "cell_type": "markdown",
   "id": "378c00ec",
   "metadata": {},
   "source": [
    "## iNeuron Python basics Assignment 11"
   ]
  },
  {
   "cell_type": "markdown",
   "id": "60453754",
   "metadata": {},
   "source": [
    "1. Create an assert statement that throws an AssertionError if the variable spam is a negative integer."
   ]
  },
  {
   "cell_type": "code",
   "execution_count": 2,
   "id": "908b920b",
   "metadata": {},
   "outputs": [
    {
     "ename": "AssertionError",
     "evalue": "spam cannot be a negative integer",
     "output_type": "error",
     "traceback": [
      "\u001b[1;31m---------------------------------------------------------------------------\u001b[0m",
      "\u001b[1;31mAssertionError\u001b[0m                            Traceback (most recent call last)",
      "\u001b[1;32m~\\AppData\\Local\\Temp/ipykernel_26548/3773984991.py\u001b[0m in \u001b[0;36m<module>\u001b[1;34m\u001b[0m\n\u001b[0;32m      1\u001b[0m \u001b[0mspam\u001b[0m \u001b[1;33m=\u001b[0m \u001b[1;33m-\u001b[0m\u001b[1;36m1\u001b[0m\u001b[1;33m\u001b[0m\u001b[1;33m\u001b[0m\u001b[0m\n\u001b[1;32m----> 2\u001b[1;33m \u001b[1;32massert\u001b[0m \u001b[0mspam\u001b[0m \u001b[1;33m>=\u001b[0m \u001b[1;36m0\u001b[0m\u001b[1;33m,\u001b[0m \u001b[1;34m\"spam cannot be a negative integer\"\u001b[0m\u001b[1;33m\u001b[0m\u001b[1;33m\u001b[0m\u001b[0m\n\u001b[0m",
      "\u001b[1;31mAssertionError\u001b[0m: spam cannot be a negative integer"
     ]
    }
   ],
   "source": [
    "spam = -1\n",
    "assert spam >= 0, \"spam cannot be a negative integer\""
   ]
  },
  {
   "cell_type": "markdown",
   "id": "21da4392",
   "metadata": {},
   "source": [
    "2. Write an assert statement that triggers an AssertionError if the variables eggs and bacon contain strings that are the same as each other, even if their cases are different (that is, 'hello' and 'hello' are considered the same, and 'goodbye' and 'GOODbye' are also considered the same)."
   ]
  },
  {
   "cell_type": "code",
   "execution_count": 5,
   "id": "16c48494",
   "metadata": {},
   "outputs": [
    {
     "ename": "AssertionError",
     "evalue": "eggs and bacon cannot be the same (case-insensitive)",
     "output_type": "error",
     "traceback": [
      "\u001b[1;31m---------------------------------------------------------------------------\u001b[0m",
      "\u001b[1;31mAssertionError\u001b[0m                            Traceback (most recent call last)",
      "\u001b[1;32m~\\AppData\\Local\\Temp/ipykernel_26548/4197994187.py\u001b[0m in \u001b[0;36m<module>\u001b[1;34m\u001b[0m\n\u001b[0;32m      2\u001b[0m \u001b[0mbacon\u001b[0m \u001b[1;33m=\u001b[0m \u001b[1;34m\"Death\"\u001b[0m\u001b[1;33m\u001b[0m\u001b[1;33m\u001b[0m\u001b[0m\n\u001b[0;32m      3\u001b[0m \u001b[1;33m\u001b[0m\u001b[0m\n\u001b[1;32m----> 4\u001b[1;33m \u001b[1;32massert\u001b[0m \u001b[0meggs\u001b[0m\u001b[1;33m.\u001b[0m\u001b[0mlower\u001b[0m\u001b[1;33m(\u001b[0m\u001b[1;33m)\u001b[0m \u001b[1;33m!=\u001b[0m \u001b[0mbacon\u001b[0m\u001b[1;33m.\u001b[0m\u001b[0mlower\u001b[0m\u001b[1;33m(\u001b[0m\u001b[1;33m)\u001b[0m\u001b[1;33m,\u001b[0m \u001b[1;34m\"eggs and bacon cannot be the same (case-insensitive)\"\u001b[0m\u001b[1;33m\u001b[0m\u001b[1;33m\u001b[0m\u001b[0m\n\u001b[0m",
      "\u001b[1;31mAssertionError\u001b[0m: eggs and bacon cannot be the same (case-insensitive)"
     ]
    }
   ],
   "source": [
    "eggs = \"Death\"\n",
    "bacon = \"Death\"\n",
    "\n",
    "assert eggs.lower() != bacon.lower(), \"eggs and bacon cannot be the same (case-insensitive)\""
   ]
  },
  {
   "cell_type": "code",
   "execution_count": 6,
   "id": "0867dd2c",
   "metadata": {},
   "outputs": [
    {
     "ename": "AssertionError",
     "evalue": "eggs and bacon cannot be the same (case-insensitive)",
     "output_type": "error",
     "traceback": [
      "\u001b[1;31m---------------------------------------------------------------------------\u001b[0m",
      "\u001b[1;31mAssertionError\u001b[0m                            Traceback (most recent call last)",
      "\u001b[1;32m~\\AppData\\Local\\Temp/ipykernel_26548/2371992068.py\u001b[0m in \u001b[0;36m<module>\u001b[1;34m\u001b[0m\n\u001b[0;32m      2\u001b[0m \u001b[0mbacon\u001b[0m \u001b[1;33m=\u001b[0m \u001b[1;34m\"dEath\"\u001b[0m\u001b[1;33m\u001b[0m\u001b[1;33m\u001b[0m\u001b[0m\n\u001b[0;32m      3\u001b[0m \u001b[1;33m\u001b[0m\u001b[0m\n\u001b[1;32m----> 4\u001b[1;33m \u001b[1;32massert\u001b[0m \u001b[0meggs\u001b[0m\u001b[1;33m.\u001b[0m\u001b[0mlower\u001b[0m\u001b[1;33m(\u001b[0m\u001b[1;33m)\u001b[0m \u001b[1;33m!=\u001b[0m \u001b[0mbacon\u001b[0m\u001b[1;33m.\u001b[0m\u001b[0mlower\u001b[0m\u001b[1;33m(\u001b[0m\u001b[1;33m)\u001b[0m\u001b[1;33m,\u001b[0m \u001b[1;34m\"eggs and bacon cannot be the same (case-insensitive)\"\u001b[0m\u001b[1;33m\u001b[0m\u001b[1;33m\u001b[0m\u001b[0m\n\u001b[0m",
      "\u001b[1;31mAssertionError\u001b[0m: eggs and bacon cannot be the same (case-insensitive)"
     ]
    }
   ],
   "source": [
    "eggs = \"Death\"\n",
    "bacon = \"dEath\"\n",
    "\n",
    "assert eggs.lower() != bacon.lower(), \"eggs and bacon cannot be the same (case-insensitive)\""
   ]
  },
  {
   "cell_type": "markdown",
   "id": "54fd530c",
   "metadata": {},
   "source": [
    "3. Create an assert statement that throws an AssertionError every time."
   ]
  },
  {
   "cell_type": "markdown",
   "id": "d54d1e91",
   "metadata": {},
   "source": [
    "Ans.  the assert statement with a condition that is always evaluated as False."
   ]
  },
  {
   "cell_type": "code",
   "execution_count": 7,
   "id": "3f3cd077",
   "metadata": {},
   "outputs": [
    {
     "ename": "AssertionError",
     "evalue": "This assert statement always triggers an AssertionError",
     "output_type": "error",
     "traceback": [
      "\u001b[1;31m---------------------------------------------------------------------------\u001b[0m",
      "\u001b[1;31mAssertionError\u001b[0m                            Traceback (most recent call last)",
      "\u001b[1;32m~\\AppData\\Local\\Temp/ipykernel_26548/1859875300.py\u001b[0m in \u001b[0;36m<module>\u001b[1;34m\u001b[0m\n\u001b[1;32m----> 1\u001b[1;33m \u001b[1;32massert\u001b[0m \u001b[1;32mFalse\u001b[0m\u001b[1;33m,\u001b[0m \u001b[1;34m\"This assert statement always triggers an AssertionError\"\u001b[0m\u001b[1;33m\u001b[0m\u001b[1;33m\u001b[0m\u001b[0m\n\u001b[0m",
      "\u001b[1;31mAssertionError\u001b[0m: This assert statement always triggers an AssertionError"
     ]
    }
   ],
   "source": [
    "assert False, \"This assert statement always triggers an AssertionError\""
   ]
  },
  {
   "cell_type": "markdown",
   "id": "417247bb",
   "metadata": {},
   "source": [
    "4. What are the two lines that must be present in your software in order to call logging.debug()?"
   ]
  },
  {
   "cell_type": "code",
   "execution_count": 8,
   "id": "36a93b55",
   "metadata": {},
   "outputs": [],
   "source": [
    "import logging\n",
    "logging.basicConfig(level=logging.DEBUG)"
   ]
  },
  {
   "cell_type": "markdown",
   "id": "a34b194d",
   "metadata": {},
   "source": [
    "5. What are the two lines that your program must have in order to have logging.debug() send a logging message to a file named programLog.txt?"
   ]
  },
  {
   "cell_type": "code",
   "execution_count": 9,
   "id": "9da57449",
   "metadata": {},
   "outputs": [],
   "source": [
    "import logging\n",
    "\n",
    "logging.basicConfig(filename='programLog.txt', level=logging.DEBUG)"
   ]
  },
  {
   "cell_type": "markdown",
   "id": "ebab04fb",
   "metadata": {},
   "source": [
    "The first line import logging imports the logging module, which provides the necessary functions and classes for logging.\n",
    "\n",
    "The second line logging.basicConfig(filename='programLog.txt', level=logging.DEBUG) configures the logging system. It sets the filename to 'programLog.txt' using the filename parameter, which specifies the file to which the logging messages will be written. Additionally, it sets the logging level to DEBUG using the level parameter, ensuring that debug-level messages will be logged to the file."
   ]
  },
  {
   "cell_type": "markdown",
   "id": "08b25dcf",
   "metadata": {},
   "source": [
    "6. What are the five levels of logging?"
   ]
  },
  {
   "cell_type": "markdown",
   "id": "141b4f81",
   "metadata": {},
   "source": [
    "The five levels of logging, in increasing order of severity, are:\n",
    "\n",
    "DEBUG: The lowest level of logging used for detailed information, typically useful for debugging purposes. These messages are typically used to provide fine-grained details about the program's execution.\n",
    "\n",
    "INFO: This level is used to provide general information about the program's execution. It signifies that the program is running as expected and provides informative messages for regular operations.\n",
    "\n",
    "WARNING: This level indicates that there is a potential issue or something unexpected happened. It doesn't necessarily cause the program to fail but may require attention.\n",
    "\n",
    "ERROR: This level signifies that an error occurred during the program's execution. It indicates a problem that prevents the program from performing a particular operation or function.\n",
    "\n",
    "CRITICAL: The highest level of logging, indicating a critical error or a severe issue that may cause the program to abort or stop functioning. This level is typically reserved for serious errors that require immediate attention."
   ]
  },
  {
   "cell_type": "markdown",
   "id": "fe3f16c1",
   "metadata": {},
   "source": [
    "7. What line of code would you add to your software to disable all logging messages?"
   ]
  },
  {
   "cell_type": "markdown",
   "id": "e51689f6",
   "metadata": {},
   "source": [
    "Ans. This line utilizes the logging.disable() function from the logging module. By passing logging.CRITICAL as the argument, it disables all logging messages at and below the CRITICAL level."
   ]
  },
  {
   "cell_type": "code",
   "execution_count": null,
   "id": "7c01f173",
   "metadata": {},
   "outputs": [],
   "source": [
    "logging.disable(logging.CRITICAL)\n"
   ]
  },
  {
   "cell_type": "markdown",
   "id": "a6c40d33",
   "metadata": {},
   "source": [
    "8. Why is using logging messages better than using print() to display the same message?"
   ]
  },
  {
   "cell_type": "markdown",
   "id": "fe427f8e",
   "metadata": {},
   "source": [
    "Ans.\n",
    "\n",
    "Log Levels and Granularity: Logging allows you to define different levels of messages (e.g., DEBUG, INFO, WARNING, ERROR, CRITICAL), providing more granularity in controlling the output\n",
    "\n",
    "Configurability: With logging, you can easily configure where the log messages go, such as a file, console, or a remote server. \n",
    "\n",
    "Flexibility: Logging provides flexible formatting options, allowing you to include additional contextual information in log messages, such as timestamps, loggers' names, or custom data. \n",
    "\n",
    "Runtime Control: Unlike print() statements, logging messages can be enabled or disabled dynamically at runtime.\n",
    "\n",
    "Production Readiness: Logging is designed for production environments and scales well even in large-scale applications. It provides better performance and reliability compared to print() statements, which may slow down the execution of the program and clutter the output.\n",
    "\n",
    "Standard Library Integration: Logging is part of the Python standard library and integrates seamlessly with other libraries and frameworks that support logging."
   ]
  },
  {
   "cell_type": "markdown",
   "id": "efe0c4de",
   "metadata": {},
   "source": [
    "9. What are the differences between the Step Over, Step In, and Step Out buttons in the debugger?"
   ]
  },
  {
   "cell_type": "markdown",
   "id": "3887c079",
   "metadata": {},
   "source": [
    "Ans.\n",
    "\n",
    "Step Over: The Step Over button allows you to execute the current line of code and move to the next line. If the current line contains a function call, the debugger will execute the entire function without stepping into it. This is useful for quickly moving through code without diving into the details of function implementations.\n",
    "\n",
    "Step In: The Step In button allows you to enter into the next function call encountered in the code. If the current line contains a function call, the debugger will pause the execution at the first line of the called function, allowing you to step through it line by line. This is useful when you want to inspect the behavior and execution flow within a specific function.\n",
    "\n",
    "Step Out: The Step Out button is used to quickly exit the current function and return to the calling code. When you're inside a function and want to quickly move to the line after the function call, you can use Step Out. The debugger will continue execution until it reaches the line after the function call that invoked the current function. This is helpful when you're not interested in stepping through the entire function and want to continue debugging from the calling context."
   ]
  },
  {
   "cell_type": "markdown",
   "id": "fa2d9cc2",
   "metadata": {},
   "source": [
    "10. After you click Continue, when will the debugger stop ?"
   ]
  },
  {
   "cell_type": "markdown",
   "id": "128fe707",
   "metadata": {},
   "source": [
    "Ans. After clicking the Continue button in a debugger, the debugger will continue the execution of the program without pausing or stopping unless it encounters a breakpoint or an exception/error occurs."
   ]
  },
  {
   "cell_type": "markdown",
   "id": "b13a19d5",
   "metadata": {},
   "source": [
    "11. What is the concept of a breakpoint?"
   ]
  },
  {
   "cell_type": "markdown",
   "id": "c49f63e4",
   "metadata": {},
   "source": [
    "Ans. \n",
    "\n",
    "A breakpoint is a designated line of code where the debugger pauses the program's execution to allow you to inspect the program's state and step through the code. If there are any breakpoints set in the code, the debugger will stop when it reaches a breakpoint after clicking Continue."
   ]
  },
  {
   "cell_type": "code",
   "execution_count": null,
   "id": "59e196fe",
   "metadata": {},
   "outputs": [],
   "source": []
  }
 ],
 "metadata": {
  "kernelspec": {
   "display_name": "Python 3 (ipykernel)",
   "language": "python",
   "name": "python3"
  },
  "language_info": {
   "codemirror_mode": {
    "name": "ipython",
    "version": 3
   },
   "file_extension": ".py",
   "mimetype": "text/x-python",
   "name": "python",
   "nbconvert_exporter": "python",
   "pygments_lexer": "ipython3",
   "version": "3.9.7"
  }
 },
 "nbformat": 4,
 "nbformat_minor": 5
}
