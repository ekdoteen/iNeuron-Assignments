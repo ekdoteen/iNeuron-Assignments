{
 "cells": [
  {
   "cell_type": "markdown",
   "id": "9db46428",
   "metadata": {},
   "source": [
    "# iNeuron python basics Assignment 13"
   ]
  },
  {
   "cell_type": "markdown",
   "id": "0f5843c4",
   "metadata": {},
   "source": [
    "1. What advantages do Excel spreadsheets have over CSV spreadsheets?"
   ]
  },
  {
   "cell_type": "markdown",
   "id": "aa7f7b9f",
   "metadata": {},
   "source": [
    "Ans. \n",
    "\n",
    "Excel spreadsheets have certain advantages over CSV:\n",
    "\n",
    "Rich Formatting: Excel files (.xlsx) support formatting options such as font styles, colors, borders, cell merging, and conditional formatting.\n",
    "\n",
    "Macro Execution: Excel files can contain macros written in VBA (Visual Basic for Applications) that automate tasks within the spreadsheet. While Python itself does not execute VBA macros, libraries like openpyxl allow you to extract macro code or execute external macros through Excel itself. \n",
    "\n",
    "Multiple Sheets and Workbooks: Excel files can contain multiple sheets within a single file and can also reference data across different sheets. Python libraries like openpyxl enable you to read, write, and manipulate data across multiple sheets or even across different Excel workbooks.\n",
    "\n"
   ]
  },
  {
   "cell_type": "markdown",
   "id": "5ff73b93",
   "metadata": {},
   "source": [
    "2. What do you pass to csv.reader() and csv.writer() to create reader and writer objects?"
   ]
  },
  {
   "cell_type": "markdown",
   "id": "3ae93c81",
   "metadata": {},
   "source": [
    "Ans. To create reader and writer objects using the csv.reader() and csv.writer() functions from the csv module in Python, you need to pass file objects as arguments. "
   ]
  },
  {
   "cell_type": "markdown",
   "id": "26904575",
   "metadata": {},
   "source": [
    "3. What modes do File objects for reader and writer objects need to be opened in?"
   ]
  },
  {
   "cell_type": "markdown",
   "id": "c9e710d8",
   "metadata": {},
   "source": [
    "Ans. \n",
    "\n",
    "The file object used with the csv.reader() function should be opened in text mode ('r' or 'rt').\n",
    "\n",
    "The file object used with the csv.writer() function should be opened in text mode ('w' or 'wt') for writing new data or append mode ('a' or 'at') if you want to add data to an existing file."
   ]
  },
  {
   "cell_type": "markdown",
   "id": "403b714c",
   "metadata": {},
   "source": [
    "4. What method takes a list argument and writes it to a CSV file?"
   ]
  },
  {
   "cell_type": "markdown",
   "id": "cfdcec69",
   "metadata": {},
   "source": [
    "Ans. The writerow() method is used to write a list of values as a row to a CSV file when working with writer objects from the csv module in Python. "
   ]
  },
  {
   "cell_type": "markdown",
   "id": "754ea679",
   "metadata": {},
   "source": [
    "5. What do the keyword arguments delimiter and line terminator do?"
   ]
  },
  {
   "cell_type": "markdown",
   "id": "443dc676",
   "metadata": {},
   "source": [
    "Ans. The delimiter argument specifies the character used to separate fields (columns) within a CSV row. By default, the delimiter is a comma (,)\n",
    "\n",
    "The lineterminator argument specifies the character(s) used to terminate each line in the CSV file. By default, the line terminator is a newline (\\n) character. "
   ]
  },
  {
   "cell_type": "markdown",
   "id": "501252de",
   "metadata": {},
   "source": [
    "6. What function takes a string of JSON data and returns a Python data structure?"
   ]
  },
  {
   "cell_type": "markdown",
   "id": "587bee08",
   "metadata": {},
   "source": [
    "Ans. The json.loads() function is used to parse a string of JSON data and convert it into a Python data structure."
   ]
  },
  {
   "cell_type": "code",
   "execution_count": 1,
   "id": "3287e3f7",
   "metadata": {},
   "outputs": [],
   "source": [
    "import json\n",
    "\n",
    "# JSON string\n",
    "json_string = '{\"name\": \"John\", \"age\": 30, \"city\": \"New York\"}'\n",
    "\n",
    "# Parse JSON string and convert it into a Python data structure\n",
    "data = json.loads(json_string)"
   ]
  },
  {
   "cell_type": "code",
   "execution_count": 3,
   "id": "dee8c312",
   "metadata": {},
   "outputs": [
    {
     "data": {
      "text/plain": [
       "dict"
      ]
     },
     "execution_count": 3,
     "metadata": {},
     "output_type": "execute_result"
    }
   ],
   "source": [
    "type(data)"
   ]
  },
  {
   "cell_type": "markdown",
   "id": "8210f067",
   "metadata": {},
   "source": [
    "7. What function takes a Python data structure and returns a string of JSON data?"
   ]
  },
  {
   "cell_type": "markdown",
   "id": "42b7102c",
   "metadata": {},
   "source": [
    "Ans. The json.dumps() function is used to serialize a Python data structure into a JSON-formatted string"
   ]
  },
  {
   "cell_type": "code",
   "execution_count": 4,
   "id": "857c5af7",
   "metadata": {},
   "outputs": [
    {
     "name": "stdout",
     "output_type": "stream",
     "text": [
      "{\"name\": \"John\", \"age\": 30, \"city\": \"New York\"}\n"
     ]
    }
   ],
   "source": [
    "import json\n",
    "\n",
    "# Python data structure\n",
    "data = {\n",
    "    'name': 'John',\n",
    "    'age': 30,\n",
    "    'city': 'New York'\n",
    "}\n",
    "\n",
    "# Convert Python data structure into a JSON string\n",
    "json_string = json.dumps(data)\n",
    "\n",
    "# Print the JSON string\n",
    "print(json_string)\n",
    "\n"
   ]
  },
  {
   "cell_type": "markdown",
   "id": "2cf8afe4",
   "metadata": {},
   "source": []
  }
 ],
 "metadata": {
  "kernelspec": {
   "display_name": "Python 3 (ipykernel)",
   "language": "python",
   "name": "python3"
  },
  "language_info": {
   "codemirror_mode": {
    "name": "ipython",
    "version": 3
   },
   "file_extension": ".py",
   "mimetype": "text/x-python",
   "name": "python",
   "nbconvert_exporter": "python",
   "pygments_lexer": "ipython3",
   "version": "3.9.7"
  }
 },
 "nbformat": 4,
 "nbformat_minor": 5
}
