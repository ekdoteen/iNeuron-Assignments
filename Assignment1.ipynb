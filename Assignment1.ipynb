{
  "nbformat": 4,
  "nbformat_minor": 0,
  "metadata": {
    "colab": {
      "provenance": []
    },
    "kernelspec": {
      "name": "python3",
      "display_name": "Python 3"
    },
    "language_info": {
      "name": "python"
    }
  },
  "cells": [
    {
      "cell_type": "code",
      "execution_count": null,
      "metadata": {
        "id": "UHNflNIUiuKv"
      },
      "outputs": [],
      "source": []
    },
    {
      "cell_type": "markdown",
      "source": [
        "1. In the below elements which of them are values or an expression? eg:- values can be integer or string and expressions will be mathematical operators.\n",
        "\n",
        "*\n",
        "\n",
        "'hello'\n",
        "\n",
        "-87.8\n",
        "\n",
        "-\n",
        "\n",
        "/\n",
        "\n",
        "+\n",
        "\t\n",
        "6 \n"
      ],
      "metadata": {
        "id": "5lSe8PXBOvHY"
      }
    },
    {
      "cell_type": "markdown",
      "source": [
        "Ans. \n",
        "\n",
        "-87.8\n",
        "\n",
        "/\n",
        "\n",
        "6\n",
        "\n",
        "+\n",
        "\n",
        "*"
      ],
      "metadata": {
        "id": "c-2yUKvgO-u7"
      }
    },
    {
      "cell_type": "markdown",
      "source": [
        "2. What is the difference between string and variable?"
      ],
      "metadata": {
        "id": "QFHrG1GsPY73"
      }
    },
    {
      "cell_type": "markdown",
      "source": [
        "Ans. String is a data type which is used to hold characeters inside quotations.\n",
        "Variable is used to store values, characters or different data types in it."
      ],
      "metadata": {
        "id": "ucFyTwgOPeQk"
      }
    },
    {
      "cell_type": "markdown",
      "source": [
        "3. Describe three different data types."
      ],
      "metadata": {
        "id": "xLeu7uyfQFh8"
      }
    },
    {
      "cell_type": "markdown",
      "source": [
        "Ans. \n",
        "\n",
        "1. String: It is used to store data in form of text or character values\n",
        "\n",
        "2. Numeric: This data type holds numerical values\n",
        "\n",
        "3. Boolean: This data type has two values: True or False. "
      ],
      "metadata": {
        "id": "PMdvDr7GQIzY"
      }
    },
    {
      "cell_type": "markdown",
      "source": [
        "4. What is an expression made up of? What do all expressions do?"
      ],
      "metadata": {
        "id": "q9lNdM1GRTL9"
      }
    },
    {
      "cell_type": "markdown",
      "source": [
        "Ans. An expression is made up of operators and operand. Expression is used to assign the value to the operand once the expression is executed"
      ],
      "metadata": {
        "id": "HTKL3YlaRbtT"
      }
    },
    {
      "cell_type": "markdown",
      "source": [
        "5. This assignment statements, like spam = 10. What is the difference between an expression and a statement?"
      ],
      "metadata": {
        "id": "mPPlkYyrSOmj"
      }
    },
    {
      "cell_type": "markdown",
      "source": [
        "Here in the statement spam = 10, after exectuing it, it assigns the value to the variable spam. But in expression, the variable value will get updated after execution of the expression as per the operators and operand. "
      ],
      "metadata": {
        "id": "A34CL0PPSYvg"
      }
    },
    {
      "cell_type": "markdown",
      "source": [
        "6. After running the following code, what does the variable bacon contain?\n",
        "\n",
        "bacon = 22\n",
        "\n",
        "bacon + 1\n"
      ],
      "metadata": {
        "id": "f9ic_BV3Szw0"
      }
    },
    {
      "cell_type": "code",
      "source": [
        "\n",
        "bacon = 22\n",
        "\n",
        "bacon + 1"
      ],
      "metadata": {
        "colab": {
          "base_uri": "https://localhost:8080/"
        },
        "id": "pPUxERC9Tv2c",
        "outputId": "09363a8e-2410-458b-a981-0b4e63301b21"
      },
      "execution_count": 3,
      "outputs": [
        {
          "output_type": "execute_result",
          "data": {
            "text/plain": [
              "23"
            ]
          },
          "metadata": {},
          "execution_count": 3
        }
      ]
    },
    {
      "cell_type": "markdown",
      "source": [
        "Ans. 23"
      ],
      "metadata": {
        "id": "BCSUB81TTFag"
      }
    },
    {
      "cell_type": "markdown",
      "source": [
        "7. What should the values of the following two terms be?\n",
        "\n",
        "'spam' + 'spamspam'\n",
        "\n",
        "'spam' * 3\n",
        "\n",
        "Ans. \n",
        "\n",
        "'spamspamspam'\n",
        "\n",
        "'spamspamspam'"
      ],
      "metadata": {
        "id": "bhoBLkaDUyJs"
      }
    },
    {
      "cell_type": "code",
      "source": [
        "\n",
        "'spam' + 'spamspam'\n",
        "\n"
      ],
      "metadata": {
        "colab": {
          "base_uri": "https://localhost:8080/",
          "height": 35
        },
        "id": "G_3DuYd4Tsly",
        "outputId": "7273aa27-c7aa-4ad4-ce38-2aa29be8b36b"
      },
      "execution_count": 7,
      "outputs": [
        {
          "output_type": "execute_result",
          "data": {
            "text/plain": [
              "'spamspamspam'"
            ],
            "application/vnd.google.colaboratory.intrinsic+json": {
              "type": "string"
            }
          },
          "metadata": {},
          "execution_count": 7
        }
      ]
    },
    {
      "cell_type": "code",
      "source": [
        "'spam' * 3"
      ],
      "metadata": {
        "colab": {
          "base_uri": "https://localhost:8080/",
          "height": 35
        },
        "id": "6L3YwmU9VGfu",
        "outputId": "23ef669d-3f3a-4d7f-a698-4637796864c5"
      },
      "execution_count": 8,
      "outputs": [
        {
          "output_type": "execute_result",
          "data": {
            "text/plain": [
              "'spamspamspam'"
            ],
            "application/vnd.google.colaboratory.intrinsic+json": {
              "type": "string"
            }
          },
          "metadata": {},
          "execution_count": 8
        }
      ]
    },
    {
      "cell_type": "markdown",
      "source": [
        "8. Why is eggs a valid variable name while 100 is invalid?\n",
        "\n",
        "Ans. eggs is a valid variable because it is not a reserved keyword in python. 100 is not valid as the variable cannot be only numeric. 100 already is a value and it should not store another value."
      ],
      "metadata": {
        "id": "RSbJtwvcVVy_"
      }
    },
    {
      "cell_type": "markdown",
      "source": [
        "9. What three functions can be used to get the integer, floating-point number, or string version of a value?\n",
        "\n",
        "Ans. Functions to be used:\n",
        "\n",
        "1. str\n",
        "\n",
        "2. float\n",
        "\n",
        "3. int"
      ],
      "metadata": {
        "id": "qDMGg7KdX2uN"
      }
    },
    {
      "cell_type": "markdown",
      "source": [
        "10. Why does this expression cause an error? How can you fix it?\n",
        "\n",
        "'I have eaten ' + 99 + ' burritos.'\n",
        "\n",
        "Ans. Yes you will get a type error as we are trying to concatenate string and numeric data type.\n",
        "In order to remove the error, we can put numeric value in quotes converting it to string.\n"
      ],
      "metadata": {
        "id": "Hy7M-vA2aTwu"
      }
    },
    {
      "cell_type": "code",
      "source": [
        "'I have eaten ' + 99 + ' burritos.'"
      ],
      "metadata": {
        "colab": {
          "base_uri": "https://localhost:8080/",
          "height": 166
        },
        "id": "yO-vY8RSVG-0",
        "outputId": "4605790c-81d7-42c3-efff-dc8a375a213f"
      },
      "execution_count": 14,
      "outputs": [
        {
          "output_type": "error",
          "ename": "TypeError",
          "evalue": "ignored",
          "traceback": [
            "\u001b[0;31m---------------------------------------------------------------------------\u001b[0m",
            "\u001b[0;31mTypeError\u001b[0m                                 Traceback (most recent call last)",
            "\u001b[0;32m<ipython-input-14-d24137131a5c>\u001b[0m in \u001b[0;36m<module>\u001b[0;34m\u001b[0m\n\u001b[0;32m----> 1\u001b[0;31m \u001b[0;34m'I have eaten '\u001b[0m \u001b[0;34m+\u001b[0m \u001b[0;36m99\u001b[0m \u001b[0;34m+\u001b[0m \u001b[0;34m' burritos.'\u001b[0m\u001b[0;34m\u001b[0m\u001b[0;34m\u001b[0m\u001b[0m\n\u001b[0m",
            "\u001b[0;31mTypeError\u001b[0m: can only concatenate str (not \"int\") to str"
          ]
        }
      ]
    },
    {
      "cell_type": "code",
      "source": [
        "'I have eaten ' + '99' + ' burritos.'"
      ],
      "metadata": {
        "colab": {
          "base_uri": "https://localhost:8080/",
          "height": 35
        },
        "id": "FBIQb5YtZrEI",
        "outputId": "72ed6534-05f3-4617-f85f-6d468ca584fa"
      },
      "execution_count": 15,
      "outputs": [
        {
          "output_type": "execute_result",
          "data": {
            "text/plain": [
              "'I have eaten 99 burritos.'"
            ],
            "application/vnd.google.colaboratory.intrinsic+json": {
              "type": "string"
            }
          },
          "metadata": {},
          "execution_count": 15
        }
      ]
    },
    {
      "cell_type": "code",
      "source": [],
      "metadata": {
        "id": "VH0U7fa5au81"
      },
      "execution_count": null,
      "outputs": []
    }
  ]
}