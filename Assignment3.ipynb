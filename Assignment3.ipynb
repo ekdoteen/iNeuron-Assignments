{
  "nbformat": 4,
  "nbformat_minor": 0,
  "metadata": {
    "colab": {
      "provenance": []
    },
    "kernelspec": {
      "name": "python3",
      "display_name": "Python 3"
    },
    "language_info": {
      "name": "python"
    }
  },
  "cells": [
    {
      "cell_type": "markdown",
      "source": [
        "1. Why are functions advantageous to have in your programs?\n",
        "\n",
        "Ans. Functions can be used several times after it is defined. It also helps in writing codes in a more concise way. It helps in making the reading of the code easier. You can write the name of the function in such a way that it helps you understand what that fucntion is doing."
      ],
      "metadata": {
        "id": "KkLwGTVKDYC2"
      }
    },
    {
      "cell_type": "markdown",
      "source": [
        "2. When does the code in a function run: when it's specified or when it's called?\n",
        "\n",
        "Ans. When the function is called, the functions is executed. "
      ],
      "metadata": {
        "id": "NNrSMeyrD9T5"
      }
    },
    {
      "cell_type": "markdown",
      "source": [
        "3. What statement creates a function?\n",
        "\n",
        "Ans. def statement is used to create a function"
      ],
      "metadata": {
        "id": "UWAhUuiNEwYN"
      }
    },
    {
      "cell_type": "markdown",
      "source": [
        "4. What is the difference between a function and a function call?\n",
        "\n",
        "Ans. function is created with a block of code and gives the result maybe based on the input variables.\n",
        "\n",
        "Function call is a code which is used to call the function and execute it. It passes control to the function."
      ],
      "metadata": {
        "id": "SnxfmpNyE2rq"
      }
    },
    {
      "cell_type": "markdown",
      "source": [
        "5. How many global scopes are there in a Python program? How many local scopes?\n",
        "\n",
        "Ans. There is one global scope in each python program. There could be several local scopes in a python program."
      ],
      "metadata": {
        "id": "__Om-tc1Fdnn"
      }
    },
    {
      "cell_type": "markdown",
      "source": [
        "6. What happens to variables in a local scope when the function call returns?\n",
        "\n",
        "Ans. The local variables gets destroyed as it is not valid outside the function."
      ],
      "metadata": {
        "id": "iAUglIBNUVz8"
      }
    },
    {
      "cell_type": "markdown",
      "source": [
        "7. What is the concept of a return value? Is it possible to have a return value in an expression?\n",
        "\n",
        "Ans. It is used to get a value from the function after the call is made for the function.\n",
        "Yes, it is possible to have a return value in an expression."
      ],
      "metadata": {
        "id": "fyplF-K_9UI_"
      }
    },
    {
      "cell_type": "markdown",
      "source": [
        "8. If a function does not have a return statement, what is the return value of a call to that function?\n",
        "\n",
        "Ans. If the function doesnot have return statement, then by default the return value is None."
      ],
      "metadata": {
        "id": "ytCdwOHSIeIN"
      }
    },
    {
      "cell_type": "markdown",
      "source": [
        "9. How do you make a function variable refer to the global variable?\n",
        "\n",
        "Ans. A global statement will make the variable in the function to refer to the global variable."
      ],
      "metadata": {
        "id": "PhZ3-PjoJLzX"
      }
    },
    {
      "cell_type": "markdown",
      "source": [
        "10. What is the data type of None?\n",
        "\n",
        "Ans. NoneType"
      ],
      "metadata": {
        "id": "xSB6b9QwEek9"
      }
    },
    {
      "cell_type": "markdown",
      "source": [
        "11. What does the sentence import areallyourpetsnamederic do?\n",
        "\n",
        "Ans. import function is used to import the module areallyourpetsnamederic."
      ],
      "metadata": {
        "id": "K-mgE34xEsnd"
      }
    },
    {
      "cell_type": "markdown",
      "source": [
        "12. If you had a bacon() feature in a spam module, what would you call it after importing spam?\n",
        "\n",
        "Ans. The function can be called with spam.bacon()"
      ],
      "metadata": {
        "id": "f4Cbj8TRHIid"
      }
    },
    {
      "cell_type": "markdown",
      "source": [
        "13. What can you do to save a programme from crashing if it encounters an error?\n",
        "\n",
        "Ans. Error handling can be done by adding try and except clause to the code in order to prevent the program from crashing."
      ],
      "metadata": {
        "id": "WdV99MDVHi7P"
      }
    },
    {
      "cell_type": "markdown",
      "source": [
        "14. What is the purpose of the try clause? What is the purpose of the except clause?\n",
        "\n",
        "Ans. The try clause allows you to test a code for error. The except clause lets you handle the error."
      ],
      "metadata": {
        "id": "4d3dxKD3IC8I"
      }
    }
  ]
}